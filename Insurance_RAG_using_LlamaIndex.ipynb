{
 "cells": [
  {
   "cell_type": "markdown",
   "metadata": {
    "id": "znqpDhUqxN9A"
   },
   "source": [
    "# RAG using LlamaIndex"
   ]
  },
  {
   "cell_type": "markdown",
   "metadata": {
    "id": "iIDxPjGcl9sB"
   },
   "source": [
    "Implement a question answering assistant using LlamaIndex and OpenAI GPT models. This assistant will answer questions related to a specific set of documents and provide the location of its sources."
   ]
  },
  {
   "cell_type": "markdown",
   "metadata": {
    "id": "9J_NR-yDCOZW"
   },
   "source": [
    "## Part 1 - Overall RAG Application Specifications\n",
    "\n",
    "***Problem Statement*** - In this project we are given a set of insurance policy documents and the goal of the project will be to build a robust generative search system capable of effectively and accurately answering questions from various policy documents. Policy documents are 7 pdfs with pages ranging from 15 to 44. It is very hard for any individual to go over all those documents and be able to remember the details to not just pick up the right section from the right document but also be able to compare information across the different documents. The generative search system provides a conversational interface to get the right information accurately and quickly. LlamaIndex has been used due to its powerful query engine, fast data processing using data loaders and directory readers as well as easier and faster implementation using fewer lines of code.\n",
    "\n",
    "***Solution Strategy*** - Build a POC which should solve the following requirements:\n",
    "\n",
    "- Users would get responses from the insurance polices.\n",
    "- If they want to refer to the original page from which the bot is responding, the bot should provide a citation as well.\n",
    "\n",
    "Goal - Solving the above two requirements well in the POC would ensure that the accuracy of the overall model is good and therefore further improvisations and customizations make sense.\n",
    "\n",
    "***Data Used*** -  Policy documents are 7 pdfs with pages ranging from 15 to 44. All the files are in a specified folder. \n",
    "\n",
    "***Why LlamaIndex ?*** - LlamaIndex has been used due to its powerful query engine, fast data processing using data loaders and directory readers as well as easier and faster implementation using fewer lines of code.\n",
    "\n",
    "Feature Comparision:\t\t\n",
    "\n",
    "LangChain\n",
    "Primary Focus\t - Workflow orchestration with LLMs\t\n",
    "Strengths\t- Agents, chains, memory integration\t\n",
    "Best Use Cases\t- Chatbots, tool use, multi-step tasks\tQuerying external knowledge sources\n",
    "\n",
    "LlamaIndex\n",
    "Primary Focus\t  - Data retrieval and indexing\n",
    "Strengths\t- Custom indexing, efficient retrieval\n",
    "Best Use Cases\t- Querying external knowledge sources\n",
    "\n",
    "Our use case is more reliant on external data sources [Policy PDFs provided]. We will need custom indexing and efficient retrieval from those external sources. So LlamaIndex is more suitable for the purpose. LangChain is better suited for complex workflows and agents. This is not a problem we need to solve in the project as the workflow is fairly basic.\n"
   ]
  },
  {
   "cell_type": "markdown",
   "metadata": {
    "id": "o29InlmyDlXp"
   },
   "source": [
    "## Part 2 - Solution POC\n",
    "\n",
    "In this section, we go ahead and actually build a POC of the solution that we proposed in the previous step."
   ]
  },
  {
   "cell_type": "markdown",
   "metadata": {
    "id": "zJwb5TlyxN9G"
   },
   "source": [
    "### Step 1: Import the necessary libraries"
   ]
  },
  {
   "cell_type": "markdown",
   "metadata": {
    "id": "tFI7VKufn-T4"
   },
   "source": [
    "While installing LlamaIndex, you can specify the version to install. We are installing version `v0.10.34`, which was the latest release version at the time of writing this notebook."
   ]
  },
  {
   "cell_type": "code",
   "execution_count": 1,
   "metadata": {
    "colab": {
     "base_uri": "https://localhost:8080/"
    },
    "id": "-oI30ZxINqXR",
    "outputId": "d05566c0-7e8e-4de1-c902-39441754c9b5"
   },
   "outputs": [],
   "source": [
    "# %pip install llama-index==0.10.34\n",
    "!pip install -U -qq openai llama-index llama-index-core llama-index-readers-file llama-index-llms-openai llama-index-embeddings-openai"
   ]
  },
  {
   "cell_type": "code",
   "execution_count": 1,
   "metadata": {
    "id": "2QQaqboD8vsZ"
   },
   "outputs": [],
   "source": [
    "# NOTE: This is ONLY necessary in jupyter notebook.\n",
    "# Details: Jupyter runs an event-loop behind the scenes.\n",
    "#          This results in nested event-loops when we start an event-loop to make async queries.\n",
    "#          This is normally not allowed, we use nest_asyncio to allow it for convenience.\n",
    "import nest_asyncio\n",
    "nest_asyncio.apply()"
   ]
  },
  {
   "cell_type": "code",
   "execution_count": 2,
   "metadata": {
    "id": "TrjDdE5GSSXG"
   },
   "outputs": [],
   "source": [
    "# Llama index already has its bundle which comes with OpenAI package included and will work even if you do not import openai separately.\n",
    "from llama_index.llms.openai import OpenAI\n",
    "from llama_index.core.llms import ChatMessage\n",
    "import os\n",
    "import openai"
   ]
  },
  {
   "cell_type": "markdown",
   "metadata": {
    "id": "7B__M_LbIS2T"
   },
   "source": [
    "### Step 2 : Set the Open AI API key"
   ]
  },
  {
   "cell_type": "code",
   "execution_count": 3,
   "metadata": {},
   "outputs": [],
   "source": [
    "# Set the API key\n",
    "filepath = \"D:\\\\ML\\\\code\\\\\"\n",
    "\n",
    "with open(filepath + \"OpenAI_API_Key.txt\", \"r\") as f:\n",
    "  openai.api_key = ' '.join(f.readlines())"
   ]
  },
  {
   "cell_type": "markdown",
   "metadata": {
    "id": "1NSmUdbIxN9I"
   },
   "source": [
    "Let's check if the OpenAI API is working correctly"
   ]
  },
  {
   "cell_type": "code",
   "execution_count": 4,
   "metadata": {
    "colab": {
     "base_uri": "https://localhost:8080/"
    },
    "id": "OKha5Q5kxN9I",
    "outputId": "25d90530-3d41-4dc9-c7da-0ff1b343a7b7"
   },
   "outputs": [
    {
     "name": "stdout",
     "output_type": "stream",
     "text": [
      "assistant: PayPal's revenue in 2021 was approximately $25.3 billion.\n"
     ]
    }
   ],
   "source": [
    "messages = [\n",
    "    ChatMessage(role=\"system\", content=\"You are an AI assistant to the user.\"),\n",
    "    ChatMessage(role=\"user\", content=\"What is the revenue of PayPal in 2021?\")\n",
    "]\n",
    "resp = OpenAI().chat(messages)\n",
    "print(resp)"
   ]
  },
  {
   "cell_type": "markdown",
   "metadata": {
    "id": "7BQmDRE6B1X7"
   },
   "source": [
    "### Step 3 - Data Loading (Ingestion)"
   ]
  },
  {
   "cell_type": "markdown",
   "metadata": {
    "id": "tO6v2nj5xN9K"
   },
   "source": [
    "##### Using SimpleDirectoryReader\n",
    "Here are some attributes that can be passed to the `SimpleDirectoryReader`:\n",
    "\n",
    "* `input_dir`: The directory from which you have to load files.\n",
    "* `recursive`: If set to *True*, it will read files from subdirectories too.\n",
    "* `input_files`: A list of specific file paths to load.\n",
    "* `exclude`: A list of file paths to exclude.\n",
    "\n",
    "Refer to [this documentation](https://docs.llamaindex.ai/en/stable/module_guides/loading/simpledirectoryreader/) for more info on SimpleDirectoryReader\n"
   ]
  },
  {
   "cell_type": "code",
   "execution_count": 5,
   "metadata": {
    "id": "sqYSqxq_al53"
   },
   "outputs": [],
   "source": [
    "from llama_index.core import SimpleDirectoryReader\n",
    "input_dir =  \"D:\\\\ML\\\\data\\\\policy\\\\\"\n",
    "# Let us take input from a directory\n",
    "reader = SimpleDirectoryReader(input_dir)"
   ]
  },
  {
   "cell_type": "code",
   "execution_count": 6,
   "metadata": {
    "colab": {
     "base_uri": "https://localhost:8080/"
    },
    "id": "x64Lh2-5bQD0",
    "outputId": "7e4df303-988e-40ac-c125-3e0ce09a3037"
   },
   "outputs": [
    {
     "name": "stdout",
     "output_type": "stream",
     "text": [
      "Loaded 217 docs\n"
     ]
    }
   ],
   "source": [
    "# Use the load_data() method to read the files from the directory\n",
    "documents = reader.load_data()\n",
    "# number of files\n",
    "print(f\"Loaded {len(documents)} docs\")"
   ]
  },
  {
   "cell_type": "code",
   "execution_count": 7,
   "metadata": {
    "colab": {
     "base_uri": "https://localhost:8080/"
    },
    "id": "lLO45iy47NMO",
    "outputId": "90c11ae2-6fd2-4fdb-818c-cc2eb98264ef"
   },
   "outputs": [
    {
     "data": {
      "text/plain": [
       "list"
      ]
     },
     "execution_count": 7,
     "metadata": {},
     "output_type": "execute_result"
    }
   ],
   "source": [
    "type(documents)"
   ]
  },
  {
   "cell_type": "markdown",
   "metadata": {
    "id": "dZevYAwz0dCf"
   },
   "source": [
    "Note: <br>\n",
    "\n",
    "217 documents is a lot more than the actual number of files you can see if you open this directory. This is because the reader is considering each page as one document. This is better because more information about less text can be stored in the metadata. See an example where we read the first document from the list."
   ]
  },
  {
   "cell_type": "code",
   "execution_count": 8,
   "metadata": {
    "colab": {
     "base_uri": "https://localhost:8080/"
    },
    "id": "WByv7_i1bdyc",
    "outputId": "8e1cfd04-9202-4fca-917b-0c80ec93e9e8"
   },
   "outputs": [
    {
     "data": {
      "text/plain": [
       "Document(id_='0488fca3-2400-4228-853c-4232e7aea861', embedding=None, metadata={'page_label': '1', 'file_name': 'HDFC-Life-Easy-Health-101N110V03-Policy-Bond-Single-Pay.pdf', 'file_path': 'D:\\\\ML\\\\data\\\\policy\\\\HDFC-Life-Easy-Health-101N110V03-Policy-Bond-Single-Pay.pdf', 'file_type': 'application/pdf', 'file_size': 1303156, 'creation_date': '2023-09-29', 'last_modified_date': '2024-10-23'}, excluded_embed_metadata_keys=['file_name', 'file_type', 'file_size', 'creation_date', 'last_modified_date', 'last_accessed_date'], excluded_llm_metadata_keys=['file_name', 'file_type', 'file_size', 'creation_date', 'last_modified_date', 'last_accessed_date'], relationships={}, text=' \\n \\n            Part A \\n<<Date>> \\n<<Policyholder’s Name>>  \\n<<Policyholder’s Address>> \\n<<Policyholder’s Contact Number>> \\n \\nDear <<Policyholder’s Name>>,  \\n \\nSub: Your Policy no. <<  >> \\nWe are glad to inform you that your proposal has been accepted and the HDFC Life Easy Health (“Policy”) \\nbeing this document, has been issued. We have made every effort to design your Policy in a simple format. We \\nhave highlighted items of importance so that you may recognize them easily. \\n \\nPolicy document: \\nAs an evidence of the insurance contract between HDFC Life Insurance Company Limited and you, the Policy \\nis enclosed herewith. Please preserve this document safely and also inform your nominees about the same. A \\ncopy of your proposal form and other relevant documents submitted by you is also enclosed for your \\ninformation and record.  \\n \\nCancellation in the Free-Look Period: \\n \\n<< In case you are not agreeable to any of the terms and conditions stated in the Policy, you have the option to \\nreturn the Policy to us for cancellation stating the reasons thereof, within 30 days from the date of receipt of the \\nPolicy as your Policy is an electronic Policy / purchased through Distance Marketing mode. On receipt of your \\nletter along with the original Policy (original Policy Document is not required for policies in dematerialised \\nform), we shall arrange to refund the Premium paid by you, subject to deduction of the proportionate risk \\nPremium for the period of cover and the expenses incurred by us for medical examination (if any) and stamp \\nduty charges. / In case you are not agreeable to any of the terms and conditions stated in the Policy, you have the \\noption to return the Policy to us for cancellation stating the reasons thereof, within 15 days from the date of \\nreceipt of the Policy. On receipt of your letter along with the original Policy (original Policy Document is not \\nrequired for policies in dematerialised form), we shall arrange to refund the Premium paid by you, subject to \\ndeduction of the proportionate risk Premium for the period of cover and the expenses incurred by us for medical \\nexamination (if any) and stamp duty charges. >> \\n \\nContacting us: \\nThe address for correspondence is specified below. To enable us to serve you better, you are requested to quote \\nyour Policy number in all future correspondence. In case you are keen to know more about our products and \\nservices, we would request you to talk to our Certified Financial Consultant (Insurance Agent) who has advised \\nyou while taking this Policy. The details of your Certified Financial Consultant including contact details are \\nlisted below.  \\n \\nTo contact us in case of any grievance, please refer to Part G. In case you are not satisfied with our response, \\nyou can also approach the Insurance Ombudsman in your region. \\n \\nThanking you for choosing HDFC Life Insurance Company Limited and looking forward to serving you in the \\nyears ahead, \\nYours sincerely, \\n \\n<< Designation of the Authorised Signatory >> \\n \\nBranch Address:  <<Branch Address>>  \\nAgency/Intermediary Code:  <<Agency/Intermediary Code>> \\nAgency/Intermediary Name:  <<Agency/Intermediary Name>> \\nAgency/Intermediary Telephone Number:  <<Agency/Intermediary mobile & \\nlandline number>> ', mimetype='text/plain', start_char_idx=None, end_char_idx=None, text_template='{metadata_str}\\n\\n{content}', metadata_template='{key}: {value}', metadata_seperator='\\n')"
      ]
     },
     "execution_count": 8,
     "metadata": {},
     "output_type": "execute_result"
    }
   ],
   "source": [
    "documents[0]"
   ]
  },
  {
   "cell_type": "markdown",
   "metadata": {
    "id": "lmvTrA_5-6-m"
   },
   "source": [
    "### Core Components Of LlamaIndex"
   ]
  },
  {
   "cell_type": "markdown",
   "metadata": {
    "id": "q9jjFHoD-0IM"
   },
   "source": [
    "![image.png](data:image/png;base64,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)"
   ]
  },
  {
   "cell_type": "markdown",
   "metadata": {
    "id": "NNn7nxWn_wmu"
   },
   "source": [
    "You can understand the core components of Llamaindex with this analogy:\n",
    "1. Documents: These are the \"books\" in your library.\n",
    "2. Index: It's the \"library\" of your data - Stores your data.\n",
    "3. Retriever: It's the \"librarian\" that finds relevant data - Finds data.\n",
    "4. Response Synthesizer: It's the \"storyteller\" that creates a response - Makes responses.\n",
    "5. QueryEngine: It's the \"director\" that makes everything work together - Coordinates everything."
   ]
  },
  {
   "cell_type": "code",
   "execution_count": 9,
   "metadata": {
    "colab": {
     "base_uri": "https://localhost:8080/"
    },
    "id": "72VCFJeODaQ1",
    "outputId": "0a4d57d4-69b7-4e61-f9ad-ed0000dc9044"
   },
   "outputs": [
    {
     "name": "stdout",
     "output_type": "stream",
     "text": [
      "<llama_index.core.indices.vector_store.base.VectorStoreIndex object at 0x000001CFB0C46510>\n",
      "Node ID: f8a35a08-5f19-4faf-861f-d93064b33084\n",
      "Text: text\n",
      "<llama_index.core.indices.vector_store.base.VectorStoreIndex object at 0x000001CFB5CDDBD0>\n"
     ]
    }
   ],
   "source": [
    "# Sample usage of Documents and Nodes\n",
    "\n",
    "# Documents\n",
    "\n",
    "from llama_index.core import Document, VectorStoreIndex\n",
    "\n",
    "# text_list = [text1, text2, ...]\n",
    "# documents = [Document(text=t) for t in text_list]\n",
    "\n",
    "text = 'text'\n",
    "docs = [Document(text=text)]\n",
    "\n",
    "# build index\n",
    "index = VectorStoreIndex.from_documents(docs)\n",
    "print(index)\n",
    "\n",
    "# Nodes\n",
    "\n",
    "from llama_index.core.node_parser import SentenceSplitter\n",
    "\n",
    "# load documents\n",
    "# documents = documents\n",
    "\n",
    "# parse nodes\n",
    "parser = SentenceSplitter()\n",
    "nodes = parser.get_nodes_from_documents(docs)\n",
    "\n",
    "# build index\n",
    "index = VectorStoreIndex(nodes)\n",
    "\n",
    "print(nodes[0])\n",
    "print(index)"
   ]
  },
  {
   "cell_type": "markdown",
   "metadata": {
    "id": "k9uncvjtEfDC"
   },
   "source": [
    "**Node Parser**: [Node parsers](https://docs.llamaindex.ai/en/stable/module_guides/loading/node_parsers/modules/#node-parser-modules) chunk a document into nodes. There are several file-based node parsers, that will create nodes based on the type of content that is being parsed (JSON, Markdown, etc.)\n",
    "\n",
    "However, for better manageability and efficiency in parsing, you can first split the text. This is done using splitters.<br>\n",
    "**Splitters** are responsible for breaking down the text into smaller, manageable pieces, often called chunks or nodes. These chunks can be based on various criteria such as sentence boundaries, semantic similarity, or other custom rules."
   ]
  },
  {
   "cell_type": "markdown",
   "metadata": {
    "id": "ADIuutZPe6YN"
   },
   "source": [
    "#### Index\n",
    "An `Index` is a data structure that allows us to quickly retrieve relevant context for a user query. For LlamaIndex, it's the core foundation for RAG use-cases.\n",
    "\n",
    "At a high-level, `Indexes` are built from Documents. They are used to build Query Engines and Chat Engines which enables question & answer and chat over your data.\n",
    "\n",
    "Under the hood, Indexes store data in Node objects, and expose a Retriever interface that supports additional configuration and automation.\n",
    "\n",
    "The most common index by far is the VectorStoreIndex."
   ]
  },
  {
   "cell_type": "markdown",
   "metadata": {
    "id": "9LiLlq8Ri2np"
   },
   "source": [
    "##### Using VectorStoreIndex#\n",
    "Vector Stores are a key component of RAG and so you will end up using them in nearly every application you make using LlamaIndex, either directly or indirectly.\n",
    "\n",
    "Vector stores accept a list of Node objects and build an index from it.\n",
    "<br>\n",
    "\n",
    "**Loading data into the index**\n",
    "\n",
    "The simplest way to use a Vector Store is to load a set of documents and build an index from them using from_documents:"
   ]
  },
  {
   "cell_type": "code",
   "execution_count": 10,
   "metadata": {
    "id": "IKY_Wxz6jMnn"
   },
   "outputs": [],
   "source": [
    "from llama_index.core import VectorStoreIndex, SimpleDirectoryReader\n",
    "# Load documents and build index\n",
    "index = VectorStoreIndex.from_documents(documents)"
   ]
  },
  {
   "cell_type": "markdown",
   "metadata": {
    "id": "Df9bB6Lwk6Y4"
   },
   "source": [
    "Tip:\n",
    "\n",
    "If you are using `from_documents` on the command line, it can be convenient to pass `show_progress=True` to display a progress bar during index construction.\n",
    "\n",
    "When you use `from_documents`, your Documents are split into chunks and parsed into Node objects, lightweight abstractions over text strings that keep track of metadata and relationships."
   ]
  },
  {
   "cell_type": "markdown",
   "metadata": {
    "id": "ddexmjX0ndVq"
   },
   "source": [
    "#### Retrievers and ResponseSynthesizers\n",
    "**Retrievers** are responsible for fetching the most relevant context given a user query (or chat message).\n",
    "\n",
    "It can be built on top of indexes, but can also be defined independently. It is used as a key building block in query engines (and Chat Engines) for retrieving relevant context.\n",
    "```\n",
    "retriever = index.as_retriever()\n",
    "nodes = retriever.retrieve(\"What information do you have about the Maturity benifit of HDFC Life Sampoorna Jeevan Plan, with the  Lump Sum Option ?\")\n",
    "```\n",
    "\n",
    "**ResponseSynthesizers** generate a response from an LLM, using a user query and a given set of text chunks. The output of a response synthesizer is a Response object.\n",
    "\n",
    "The method for doing this can take many forms, from as simple as iterating over text chunks, to as complex as building a tree."
   ]
  },
  {
   "cell_type": "markdown",
   "metadata": {
    "id": "0vnFcUONmGi9"
   },
   "source": [
    "#### Query Engines\n",
    "Query engine is a generic interface that allows you to ask question over your data.\n",
    "\n",
    "A query engine takes in a natural language query, and returns a rich response. It is most often (but not always) built on one or many indexes via retrievers. You can compose multiple query engines to achieve more advanced capability.\n",
    "\n",
    "\n",
    "``` Python\n",
    "query_engine = index.as_query_engine()\n",
    "response = query_engine.query(\"What information do you have about the Maturity benifit of HDFC Life Sampoorna Jeevan Plan, with the  Lump Sum Option ?\")\n",
    "```\n",
    "\n",
    "To stream response: <br>\n",
    "LlamaIndex supports streaming the response as it's being generated. This allows you to start printing or processing the beginning of the response before the full response is finished, so you can see the words as they are being generated."
   ]
  },
  {
   "cell_type": "code",
   "execution_count": 12,
   "metadata": {
    "colab": {
     "base_uri": "https://localhost:8080/"
    },
    "id": "V6lPSc4aw6ec",
    "outputId": "d6bee1f9-db3a-4a7e-d611-b1e54c95cf4a"
   },
   "outputs": [
    {
     "name": "stdout",
     "output_type": "stream",
     "text": [
      "The Maturity Benefit for HDFC Life Sampoorna Jeevan Plan with the Lump Sum Option includes the Guaranteed Maturity Benefit, which is 100% of the Basic Sum Assured. This amount will be payable on the Policy Maturity Date."
     ]
    }
   ],
   "source": [
    "# Streaming\n",
    "query_engine = index.as_query_engine(streaming=True)\n",
    "streaming_response = query_engine.query(\"What information do you have about the Maturity benifit of HDFC Life Sampoorna Jeevan Plan, with the  Lump Sum Option ?\")\n",
    "streaming_response.print_response_stream()"
   ]
  },
  {
   "cell_type": "markdown",
   "metadata": {
    "id": "CLb-tG3oouy5"
   },
   "source": [
    "### Step 4 - Building the query engine\n",
    "A Query Engine wraps a Retriever and a ResponseSynthesizer into a pipeline. It uses the query string to fetch nodes and then sends them to the Large Language Model (LLM) to generate a response."
   ]
  },
  {
   "cell_type": "code",
   "execution_count": 13,
   "metadata": {
    "id": "8vlxjmpfoXWD"
   },
   "outputs": [],
   "source": [
    "from llama_index.core.node_parser import SimpleNodeParser\n",
    "from llama_index.core import VectorStoreIndex\n",
    "from IPython.display import display, HTML\n",
    "\n",
    "# create parser and parse document into nodes\n",
    "parser = SimpleNodeParser.from_defaults()\n",
    "nodes = parser.get_nodes_from_documents(documents)\n",
    "\n",
    "# # build index\n",
    "index = VectorStoreIndex(nodes)\n",
    "\n",
    "# Construct Query Engine\n",
    "query_engine = index.as_query_engine()"
   ]
  },
  {
   "cell_type": "code",
   "execution_count": 14,
   "metadata": {
    "colab": {
     "base_uri": "https://localhost:8080/",
     "height": 256
    },
    "id": "6vzhTeTRi2rP",
    "outputId": "bd6cce5d-550d-401c-9349-9ab1d9a10827"
   },
   "outputs": [
    {
     "data": {
      "text/plain": [
       "llama_index.core.indices.vector_store.base.VectorStoreIndex"
      ]
     },
     "execution_count": 14,
     "metadata": {},
     "output_type": "execute_result"
    }
   ],
   "source": [
    "type(index)"
   ]
  },
  {
   "cell_type": "markdown",
   "metadata": {
    "id": "Wuo8-bNGB4J5"
   },
   "source": [
    "You can also store this VectorStoreIndex. You can read more here - https://docs.llamaindex.ai/en/stable/understanding/storing/storing.html"
   ]
  },
  {
   "cell_type": "code",
   "execution_count": 15,
   "metadata": {
    "id": "RQeXhB9mfFe2"
   },
   "outputs": [],
   "source": [
    "response = query_engine.query(\"What information do you have about the Maturity benifit of HDFC Life Sampoorna Jeevan Plan, with the  Lump Sum Option ?\")"
   ]
  },
  {
   "cell_type": "code",
   "execution_count": 16,
   "metadata": {
    "colab": {
     "base_uri": "https://localhost:8080/"
    },
    "id": "k-OHh1ahgKL0",
    "outputId": "15f8dec8-67ed-4b41-97af-f965fcb579c4"
   },
   "outputs": [
    {
     "data": {
      "text/plain": [
       "llama_index.core.base.response.schema.Response"
      ]
     },
     "execution_count": 16,
     "metadata": {},
     "output_type": "execute_result"
    }
   ],
   "source": [
    "# Output from a query engine is a response object\n",
    "type(response)"
   ]
  },
  {
   "cell_type": "code",
   "execution_count": 17,
   "metadata": {
    "colab": {
     "base_uri": "https://localhost:8080/"
    },
    "id": "J_Bhty1-gMyF",
    "outputId": "49f2f4b9-f636-4cf9-b8bb-ee93aacb3d50"
   },
   "outputs": [
    {
     "data": {
      "text/plain": [
       "['__annotations__',\n",
       " '__class__',\n",
       " '__dataclass_fields__',\n",
       " '__dataclass_params__',\n",
       " '__delattr__',\n",
       " '__dict__',\n",
       " '__dir__',\n",
       " '__doc__',\n",
       " '__eq__',\n",
       " '__format__',\n",
       " '__ge__',\n",
       " '__getattribute__',\n",
       " '__getstate__',\n",
       " '__gt__',\n",
       " '__hash__',\n",
       " '__init__',\n",
       " '__init_subclass__',\n",
       " '__le__',\n",
       " '__lt__',\n",
       " '__match_args__',\n",
       " '__module__',\n",
       " '__ne__',\n",
       " '__new__',\n",
       " '__reduce__',\n",
       " '__reduce_ex__',\n",
       " '__repr__',\n",
       " '__setattr__',\n",
       " '__sizeof__',\n",
       " '__str__',\n",
       " '__subclasshook__',\n",
       " '__weakref__',\n",
       " 'get_formatted_sources',\n",
       " 'metadata',\n",
       " 'response',\n",
       " 'source_nodes']"
      ]
     },
     "execution_count": 17,
     "metadata": {},
     "output_type": "execute_result"
    }
   ],
   "source": [
    "## What are the options available with the response object\n",
    "dir(response)"
   ]
  },
  {
   "cell_type": "code",
   "execution_count": 18,
   "metadata": {
    "colab": {
     "base_uri": "https://localhost:8080/",
     "height": 35
    },
    "id": "QWrZxDp-gfvF",
    "outputId": "4116a65d-06b9-440e-a429-71a344156df9"
   },
   "outputs": [
    {
     "data": {
      "text/plain": [
       "'The Maturity Benefit of HDFC Life Sampoorna Jeevan Plan with the Lump Sum Option includes a Guaranteed Maturity Benefit which is 100% of the Basic Sum Assured.'"
      ]
     },
     "execution_count": 18,
     "metadata": {},
     "output_type": "execute_result"
    }
   ],
   "source": [
    "# Fetching the response value which contains the actual response inside the response object\n",
    "response.response"
   ]
  },
  {
   "cell_type": "code",
   "execution_count": 19,
   "metadata": {
    "colab": {
     "base_uri": "https://localhost:8080/"
    },
    "id": "xpqQoOCJiIlw",
    "outputId": "147c2d98-9548-44aa-ddf9-4af44ebf9fc6"
   },
   "outputs": [
    {
     "data": {
      "text/plain": [
       "{'070567de-93db-44ad-b7fb-4917e28f5bf1': {'page_label': '7',\n",
       "  'file_name': 'HDFC-Life-Sampoorna-Jeevan-101N158V04-Policy-Document (1).pdf',\n",
       "  'file_path': 'D:\\\\ML\\\\data\\\\policy\\\\HDFC-Life-Sampoorna-Jeevan-101N158V04-Policy-Document (1).pdf',\n",
       "  'file_type': 'application/pdf',\n",
       "  'file_size': 1990500,\n",
       "  'creation_date': '2023-09-29',\n",
       "  'last_modified_date': '2024-10-23'},\n",
       " '734e0d30-410a-496a-bba9-9cff1e92c37f': {'page_label': '18',\n",
       "  'file_name': 'HDFC-Life-Sampoorna-Jeevan-101N158V04-Policy-Document (1).pdf',\n",
       "  'file_path': 'D:\\\\ML\\\\data\\\\policy\\\\HDFC-Life-Sampoorna-Jeevan-101N158V04-Policy-Document (1).pdf',\n",
       "  'file_type': 'application/pdf',\n",
       "  'file_size': 1990500,\n",
       "  'creation_date': '2023-09-29',\n",
       "  'last_modified_date': '2024-10-23'}}"
      ]
     },
     "execution_count": 19,
     "metadata": {},
     "output_type": "execute_result"
    }
   ],
   "source": [
    "# You can also see the metadeta of the response\n",
    "response.metadata"
   ]
  },
  {
   "cell_type": "code",
   "execution_count": 20,
   "metadata": {
    "colab": {
     "base_uri": "https://localhost:8080/"
    },
    "id": "4nqA4B93iPQT",
    "outputId": "57168ba1-ea00-4031-9ba2-49f6eab65908"
   },
   "outputs": [
    {
     "data": {
      "text/plain": [
       "[NodeWithScore(node=TextNode(id_='070567de-93db-44ad-b7fb-4917e28f5bf1', embedding=None, metadata={'page_label': '7', 'file_name': 'HDFC-Life-Sampoorna-Jeevan-101N158V04-Policy-Document (1).pdf', 'file_path': 'D:\\\\ML\\\\data\\\\policy\\\\HDFC-Life-Sampoorna-Jeevan-101N158V04-Policy-Document (1).pdf', 'file_type': 'application/pdf', 'file_size': 1990500, 'creation_date': '2023-09-29', 'last_modified_date': '2024-10-23'}, excluded_embed_metadata_keys=['file_name', 'file_type', 'file_size', 'creation_date', 'last_modified_date', 'last_accessed_date'], excluded_llm_metadata_keys=['file_name', 'file_type', 'file_size', 'creation_date', 'last_modified_date', 'last_accessed_date'], relationships={<NodeRelationship.SOURCE: '1'>: RelatedNodeInfo(node_id='194d3681-191e-44e1-8217-42f78e14a102', node_type=<ObjectType.DOCUMENT: '4'>, metadata={'page_label': '7', 'file_name': 'HDFC-Life-Sampoorna-Jeevan-101N158V04-Policy-Document (1).pdf', 'file_path': 'D:\\\\ML\\\\data\\\\policy\\\\HDFC-Life-Sampoorna-Jeevan-101N158V04-Policy-Document (1).pdf', 'file_type': 'application/pdf', 'file_size': 1990500, 'creation_date': '2023-09-29', 'last_modified_date': '2024-10-23'}, hash='1589ff2ca6dcce0369176a8cc55b84ddcd54815ab6977553b630b4b53a317cfe')}, text='Option A : Lump Sum Option \\n100% of Basic Sum Assured  \\n+ \\nApplicable Bonus, if declared \\n+ \\nApplicable Terminal Bonus, if declared \\nOption B : Income Option Applicable Bonus, if declared \\n+ \\nApplicable Terminal Bonus, if declared \\nOption C : Lump Sum with  \\nIncome Option \\nApplicable Bonus, if declared \\n+ \\nApplicable Terminal Bonus, if declared \\n \\n \\nOption D : Income with Lump sum \\nOption \\n100% of Basic Sum Assured  \\n+ \\nApplicable Bonus, if declared,  \\n+ \\nApplicable Terminal Bonus, if declared \\n \\n \\nC.3.  Survival Benefit/s: Subject to the terms and conditions of this Policy and  Policy remaining In Force and effect,  the \\nSurvival Benefits shall be payable by the Company to the Policyholder subject tosurvival of the Life Assured during the \\nPolicy Term. Survival Benefit payable shall be based on the Guaranteed Benefit Option and Bon us Option chosen by \\nPolicyholder on Date of Inception of the Policy. In case of death of the Life Assured after the beginning of Survival \\nBenefit payoutsand before Policy Maturity Date, the future installments of Survival Benefit, if any, shall cease and Death \\nBenefit shall be payable by Company, as mentioned in Clause C.1. Survival Benefits paid, if any, after the date of death \\nof the Life Assured shall be deducted from Death Benefit.  \\n \\nC.3.1. Survival Benefit under the four Guaranteed Benefit Options offered under this Policy are as follows: \\n \\nGuaranteed Benefit Option Benefit \\nOption A : Lump Sum Option \\uf0b7 Guaranteed Maturity Benefit which is 100% of Basic Sum Assured shall be \\nbepayable on the Policy Maturity Date. \\n \\n \\n \\nOption B : Income Option \\n \\n \\n\\uf0b7 Guaranteed Income Benefit, which is equal to 5% of Basic Sum Assured  \\nshall be payableannually. \\n\\uf0b7 This Guaranteed Income Benefit shall be payable annually and payout will \\ncommence from the Policy anniversary subsequent to end of Premium \\nPayment Term till Policy Maturity Date. \\n \\n \\n \\n \\nOption C : Lump Sum  \\nwith Income Option \\n \\n\\uf0b7 An amount equal to 100% of Basic Sum Assured shall be payable at the end  \\n of  Policy Year in which Life Assured attains age 60 years \\n\\uf0b7 Guaranteed Income Benefit shall be payable annually commencing from Policy \\nanniversary in which Life Assured attains age 61 years till Policy Maturity Date \\n\\uf0b7 Guaranteed Income Benefit shall be equal to 10% of Basic Sum Assured for \\nSampoorna Jeevan 75 under this option. \\n\\uf0b7 Guaranteed Income Benefit shall be equal to 5% of Basic Sum Assured for \\nSampoorna Jeevan 100 under this option \\n \\n \\n \\nOption D : Income with  \\nLump sum Option \\n\\uf0b7 Guaranteed Income Benefit shall be payable annually commencing from  \\nthe Policy Year in which Life Assured attains age 61 years till Policy Maturity \\nDate \\n\\uf0b7 Guaranteed Income Benefit shall be equal to 10% of Basic Sum Assured for \\nSampoorna Jeevan 75 under this option \\n\\uf0b7 Guaranteed Income Benefit shall be equal to 5% of Basic Sum Assured for \\nSampoorna Jeevan 100 under this option \\n\\uf0b7 In addition to the Guaranteed Income Benefit as mentioned above ,100% of \\nBasic Sum Assured shall be payable in lump sum on Policy Maturity Date \\n \\nGuaranteed Benefit Option shall be chosen by the Policyholder atthe Policy Commencement Date and is \\nspecifiedin the Policy Schedule. Once specified in the Policy Schedule,the Guaranteed Benefit Option cannot \\nbe changedduring the Policy Term.', mimetype='text/plain', start_char_idx=8, end_char_idx=3320, text_template='{metadata_str}\\n\\n{content}', metadata_template='{key}: {value}', metadata_seperator='\\n'), score=0.8755695671032216),\n",
       " NodeWithScore(node=TextNode(id_='734e0d30-410a-496a-bba9-9cff1e92c37f', embedding=None, metadata={'page_label': '18', 'file_name': 'HDFC-Life-Sampoorna-Jeevan-101N158V04-Policy-Document (1).pdf', 'file_path': 'D:\\\\ML\\\\data\\\\policy\\\\HDFC-Life-Sampoorna-Jeevan-101N158V04-Policy-Document (1).pdf', 'file_type': 'application/pdf', 'file_size': 1990500, 'creation_date': '2023-09-29', 'last_modified_date': '2024-10-23'}, excluded_embed_metadata_keys=['file_name', 'file_type', 'file_size', 'creation_date', 'last_modified_date', 'last_accessed_date'], excluded_llm_metadata_keys=['file_name', 'file_type', 'file_size', 'creation_date', 'last_modified_date', 'last_accessed_date'], relationships={<NodeRelationship.SOURCE: '1'>: RelatedNodeInfo(node_id='a3fa7c54-6f1b-4021-a29c-b88c85f569b0', node_type=<ObjectType.DOCUMENT: '4'>, metadata={'page_label': '18', 'file_name': 'HDFC-Life-Sampoorna-Jeevan-101N158V04-Policy-Document (1).pdf', 'file_path': 'D:\\\\ML\\\\data\\\\policy\\\\HDFC-Life-Sampoorna-Jeevan-101N158V04-Policy-Document (1).pdf', 'file_type': 'application/pdf', 'file_size': 1990500, 'creation_date': '2023-09-29', 'last_modified_date': '2024-10-23'}, hash='6dd2624a6236e71002ebe57039d3347ca6d8d41c4ccb40405206c2478f99d50b')}, text='Please communicate any changes in your mailing address or any other communication details as soon as possible. This \\nwill enable us to serve you better. \\n \\nF.9. Entire Contract:  This Policy comprises of the terms and conditions set forth in this Policy Document , the Policy \\nSchedule, and the endorsements, if any, made on or applicable to this Policy, which shall form an integral part and the \\nentire contract evidenced by this Policy. The liability of the Company is at all times subject to the terms and conditions \\nof this Policy and the endorsements made from time to time.   \\n \\nF.10. Risk Factors: \\nThis is a Non- Linked, Participating IndividualLife Insurance Savings Product. HDFC Life Insurance Company Limited is \\nonly the name of the Insurance Company and HDFC Life Sampoorna JeevanPlan is only the name of the product and  \\ndoes not in any way indicate the quality of the product, its future prospects or returns. \\n \\nF.11. Governing Law and Jurisdiction: This Policy shall be governed by and interpreted in accordance with the laws  of \\nIndia. All actions, suits and proceedings under this Policy shall be subject to the exclusive jurisdiction of the court s in \\nIndia.  \\n \\nF.12. Death Benefit for Minor Life :If Age of the Life Assured is greater than or equal to 12 years, the risk will commence \\nimmediately from the Policy Commencement Date . If the Age of Life Assured is less than 12 years, the risk will \\ncommenceunder the Policy (that is full death benefitwill become payable  on death of Life Assured )on the last day of \\nsecond Policy Year.If the Age of Life Assured is less than 12 years and if the Life Assured dies before the last day of the \\nsecond Policy Year, the Death Benefit shall be restricted to refund of Premiums without interest. \\n \\nF.13. Suicide Exclusion: In case of death due to suicide within 12 months from the Date of Commencement of Risk under \\nthe policy or from the date of Revival of the policy, as applicable, the Eligible Person shall be entitled to at least 80% of  \\nthe Total Premiums Paid till the date of death or the Surrender Value available  as on the date of death whichever is \\nhigher, provided the policy is in force. \\n \\nF.14. Grace Period : A Grace Period of fifteen (15) days from the Premium payment due date for Policies with monthly  \\nPremium payment mode and thirty (30) days from the Premium paymen t due date for all other available Premium  \\npayment modes will be  allowed for payments of each Premium. During the Grace Period, the Policy shall continue to be  \\nIn Force for availing the Death Benefit.  Any unpaid Premium is deductible from the Benefits t hat may arise during the  \\nGrace Period. The Company shall pay the Death Benefit for death during Grace Period, subject to the deduction of the  \\nPremiums due as well as balance Premiums for the Policy Year, if any under the Policy.  \\n \\nIf the P remiums due are not paid within the Grace Period, the Policy will be eligible  for  non-forfeiture options as \\nexplained in Clause D.3. \\n \\nF.15. Requirements for maturity claims and death claims: In the event of a claim for Maturity Benefit or Death Benefit \\narising under this Policy, the Eligible Person shall intimate to the Company in writing of the claim and provide the \\nfollowing documents to the Company to enable the Company to process the claim: \\n \\nF.15.1.In case of maturity claims: \\n \\n(i) Original Policy Document; and \\n(ii) Discharge Form \\n(iii) Self-attested ID Proof, and \\n(iv) Bank account details along with IFSC code (payment would be made vide NEFT only) in case there is a change in \\nthe bank details already provided. \\n \\nFor payment of Survival Benefit, requirements specified in (iii) & (iv) above need to be furnished \\n \\nF.15.2.In case of death claims, except death claims arising out of accidents or unnatural deaths', mimetype='text/plain', start_char_idx=4, end_char_idx=3817, text_template='{metadata_str}\\n\\n{content}', metadata_template='{key}: {value}', metadata_seperator='\\n'), score=0.8699842344926152)]"
      ]
     },
     "execution_count": 20,
     "metadata": {},
     "output_type": "execute_result"
    }
   ],
   "source": [
    "# These are the nodes used as source\n",
    "response.source_nodes"
   ]
  },
  {
   "cell_type": "code",
   "execution_count": 21,
   "metadata": {
    "colab": {
     "base_uri": "https://localhost:8080/",
     "height": 35
    },
    "id": "JB0IFAl_iWOC",
    "outputId": "1fda8abb-b873-4031-ed96-fc036e03bcc7"
   },
   "outputs": [
    {
     "data": {
      "text/plain": [
       "'HDFC-Life-Sampoorna-Jeevan-101N158V04-Policy-Document (1).pdf'"
      ]
     },
     "execution_count": 21,
     "metadata": {},
     "output_type": "execute_result"
    }
   ],
   "source": [
    "#Extract the file name\n",
    "response.source_nodes[0].node.metadata['file_name']"
   ]
  },
  {
   "cell_type": "code",
   "execution_count": 22,
   "metadata": {
    "colab": {
     "base_uri": "https://localhost:8080/",
     "height": 35
    },
    "id": "Rfkn0WPKikn2",
    "outputId": "9e71b7a2-5104-47ef-8110-3ff24e00b083"
   },
   "outputs": [
    {
     "data": {
      "text/plain": [
       "'HDFC-Life-Sampoorna-Jeevan-101N158V04-Policy-Document (1).pdf page no 7'"
      ]
     },
     "execution_count": 22,
     "metadata": {},
     "output_type": "execute_result"
    }
   ],
   "source": [
    "# We can even extract the file name and page number from where the response was taken\n",
    "response.source_nodes[0].node.metadata['file_name'] + \" page no \" + response.source_nodes[0].node.metadata['page_label']"
   ]
  },
  {
   "cell_type": "code",
   "execution_count": 23,
   "metadata": {
    "colab": {
     "base_uri": "https://localhost:8080/"
    },
    "id": "0jcPwESJivN8",
    "outputId": "60a2a11f-c2e1-410e-fc48-c63366f70a46"
   },
   "outputs": [
    {
     "data": {
      "text/plain": [
       "0.8755695671032216"
      ]
     },
     "execution_count": 23,
     "metadata": {},
     "output_type": "execute_result"
    }
   ],
   "source": [
    "#Extract the score\n",
    "response.source_nodes[0].score"
   ]
  },
  {
   "cell_type": "code",
   "execution_count": 24,
   "metadata": {
    "colab": {
     "base_uri": "https://localhost:8080/",
     "height": 122
    },
    "id": "_BXIemBxjjJF",
    "outputId": "ce308585-52e6-4655-ba11-714a37e4538f"
   },
   "outputs": [
    {
     "data": {
      "text/plain": [
       "'Option A : Lump Sum Option \\n100% of Basic Sum Assured  \\n+ \\nApplicable Bonus, if declared \\n+ \\nApplicable Terminal Bonus, if declared \\nOption B : Income Option Applicable Bonus, if declared \\n+ \\nApplicable Terminal Bonus, if declared \\nOption C : Lump Sum with  \\nIncome Option \\nApplicable Bonus, if declared \\n+ \\nApplicable Terminal Bonus, if declared \\n \\n \\nOption D : Income with Lump sum \\nOption \\n100% of Basic Sum Assured  \\n+ \\nApplicable Bonus, if declared,  \\n+ \\nApplicable Terminal Bonus, if declared \\n \\n \\nC.3.  Survival Benefit/s: Subject to the terms and conditions of this Policy and  Policy remaining In Force and effect,  the \\nSurvival Benefits shall be payable by the Company to the Policyholder subject tosurvival of the Life Assured during the \\nPolicy Term. Survival Benefit payable shall be based on the Guaranteed Benefit Option and Bon us Option chosen by \\nPolicyholder on Date of Inception of the Policy. In case of death of the Life Assured after the beginning of Survival \\nBenefit payoutsand before Policy Maturity Date, the future installments of Survival Benefit, if any, shall cease and Death \\nBenefit shall be payable by Company, as mentioned in Clause C.1. Survival Benefits paid, if any, after the date of death \\nof the Life Assured shall be deducted from Death Benefit.  \\n \\nC.3.1. Survival Benefit under the four Guaranteed Benefit Options offered under this Policy are as follows: \\n \\nGuaranteed Benefit Option Benefit \\nOption A : Lump Sum Option \\uf0b7 Guaranteed Maturity Benefit which is 100% of Basic Sum Assured shall be \\nbepayable on the Policy Maturity Date. \\n \\n \\n \\nOption B : Income Option \\n \\n \\n\\uf0b7 Guaranteed Income Benefit, which is equal to 5% of Basic Sum Assured  \\nshall be payableannually. \\n\\uf0b7 This Guaranteed Income Benefit shall be payable annually and payout will \\ncommence from the Policy anniversary subsequent to end of Premium \\nPayment Term till Policy Maturity Date. \\n \\n \\n \\n \\nOption C : Lump Sum  \\nwith Income Option \\n \\n\\uf0b7 An amount equal to 100% of Basic Sum Assured shall be payable at the end  \\n of  Policy Year in which Life Assured attains age 60 years \\n\\uf0b7 Guaranteed Income Benefit shall be payable annually commencing from Policy \\nanniversary in which Life Assured attains age 61 years till Policy Maturity Date \\n\\uf0b7 Guaranteed Income Benefit shall be equal to 10% of Basic Sum Assured for \\nSampoorna Jeevan 75 under this option. \\n\\uf0b7 Guaranteed Income Benefit shall be equal to 5% of Basic Sum Assured for \\nSampoorna Jeevan 100 under this option \\n \\n \\n \\nOption D : Income with  \\nLump sum Option \\n\\uf0b7 Guaranteed Income Benefit shall be payable annually commencing from  \\nthe Policy Year in which Life Assured attains age 61 years till Policy Maturity \\nDate \\n\\uf0b7 Guaranteed Income Benefit shall be equal to 10% of Basic Sum Assured for \\nSampoorna Jeevan 75 under this option \\n\\uf0b7 Guaranteed Income Benefit shall be equal to 5% of Basic Sum Assured for \\nSampoorna Jeevan 100 under this option \\n\\uf0b7 In addition to the Guaranteed Income Benefit as mentioned above ,100% of \\nBasic Sum Assured shall be payable in lump sum on Policy Maturity Date \\n \\nGuaranteed Benefit Option shall be chosen by the Policyholder atthe Policy Commencement Date and is \\nspecifiedin the Policy Schedule. Once specified in the Policy Schedule,the Guaranteed Benefit Option cannot \\nbe changedduring the Policy Term.'"
      ]
     },
     "execution_count": 24,
     "metadata": {},
     "output_type": "execute_result"
    }
   ],
   "source": [
    "# Response node text\n",
    "response.source_nodes[0].node.text"
   ]
  },
  {
   "cell_type": "markdown",
   "metadata": {
    "id": "rEmEt1GfEtSO"
   },
   "source": [
    "### Step 5 - Creating a response Pipeline\n",
    "\n",
    "User receives the response and the document that they can refer to"
   ]
  },
  {
   "cell_type": "code",
   "execution_count": 25,
   "metadata": {
    "id": "DpDFsDUTxcjd"
   },
   "outputs": [],
   "source": [
    "## Query response function\n",
    "def query_response(user_input):\n",
    "  response = query_engine.query(user_input)\n",
    "  file_name = response.source_nodes[0].node.metadata['file_name'] + \" page nos \" + response.source_nodes[0].node.metadata['page_label'] + \",\" + response.source_nodes[1].node.metadata['page_label']\n",
    "  final_response = response.response + '\\n Check further at ' + file_name\n",
    "  return final_response"
   ]
  },
  {
   "cell_type": "code",
   "execution_count": 28,
   "metadata": {
    "id": "kVdmrWRB02QF"
   },
   "outputs": [],
   "source": [
    "def initialize_conv():\n",
    "  print('Feel free to ask Questions regarding insurance policies. Press exit once you are done')\n",
    "  while True:\n",
    "    user_input = input()\n",
    "    # Type 'exit' to exit conversation\n",
    "    if user_input.lower() == 'exit':\n",
    "      print('Exiting the program... bye')\n",
    "      break\n",
    "    else:\n",
    "      response = query_response(user_input)\n",
    "      display(HTML(f'<p style=\"font-size:20px\">{response}</p>'))"
   ]
  },
  {
   "cell_type": "code",
   "execution_count": 29,
   "metadata": {
    "colab": {
     "base_uri": "https://localhost:8080/",
     "height": 123
    },
    "id": "LD9uE8dIUIHS",
    "outputId": "d91ad1f1-bd24-4e4f-dacc-a18b0c5e9ca2"
   },
   "outputs": [
    {
     "name": "stdout",
     "output_type": "stream",
     "text": [
      "Feel free to ask Questions regarding insurance policies. Press exit once you are done\n"
     ]
    },
    {
     "data": {
      "text/html": [
       "<p style=\"font-size:20px\">The Maturity Benefit of HDFC Life Sampoorna Jeevan Plan with the Lump Sum Option includes the Guaranteed Maturity Benefit, which is 100% of the Basic Sum Assured. This benefit will be payable on the Policy Maturity Date.\n",
       " Check further at HDFC-Life-Sampoorna-Jeevan-101N158V04-Policy-Document (1).pdf page nos 7,18</p>"
      ],
      "text/plain": [
       "<IPython.core.display.HTML object>"
      ]
     },
     "metadata": {},
     "output_type": "display_data"
    },
    {
     "ename": "TypeError",
     "evalue": "unsupported operand type(s) for *: 'NoneType' and 'float'",
     "output_type": "error",
     "traceback": [
      "\u001b[1;31m---------------------------------------------------------------------------\u001b[0m",
      "\u001b[1;31mTypeError\u001b[0m                                 Traceback (most recent call last)",
      "Cell \u001b[1;32mIn[29], line 1\u001b[0m\n\u001b[1;32m----> 1\u001b[0m \u001b[43minitialize_conv\u001b[49m\u001b[43m(\u001b[49m\u001b[43m)\u001b[49m\n",
      "Cell \u001b[1;32mIn[28], line 10\u001b[0m, in \u001b[0;36minitialize_conv\u001b[1;34m()\u001b[0m\n\u001b[0;32m      8\u001b[0m   \u001b[38;5;28;01mbreak\u001b[39;00m\n\u001b[0;32m      9\u001b[0m \u001b[38;5;28;01melse\u001b[39;00m:\n\u001b[1;32m---> 10\u001b[0m   response \u001b[38;5;241m=\u001b[39m \u001b[43mquery_response\u001b[49m\u001b[43m(\u001b[49m\u001b[43muser_input\u001b[49m\u001b[43m)\u001b[49m\n\u001b[0;32m     11\u001b[0m   display(HTML(\u001b[38;5;124mf\u001b[39m\u001b[38;5;124m'\u001b[39m\u001b[38;5;124m<p style=\u001b[39m\u001b[38;5;124m\"\u001b[39m\u001b[38;5;124mfont-size:20px\u001b[39m\u001b[38;5;124m\"\u001b[39m\u001b[38;5;124m>\u001b[39m\u001b[38;5;132;01m{\u001b[39;00mresponse\u001b[38;5;132;01m}\u001b[39;00m\u001b[38;5;124m</p>\u001b[39m\u001b[38;5;124m'\u001b[39m))\n",
      "Cell \u001b[1;32mIn[25], line 3\u001b[0m, in \u001b[0;36mquery_response\u001b[1;34m(user_input)\u001b[0m\n\u001b[0;32m      2\u001b[0m \u001b[38;5;28;01mdef\u001b[39;00m \u001b[38;5;21mquery_response\u001b[39m(user_input):\n\u001b[1;32m----> 3\u001b[0m   response \u001b[38;5;241m=\u001b[39m \u001b[43mquery_engine\u001b[49m\u001b[38;5;241;43m.\u001b[39;49m\u001b[43mquery\u001b[49m\u001b[43m(\u001b[49m\u001b[43muser_input\u001b[49m\u001b[43m)\u001b[49m\n\u001b[0;32m      4\u001b[0m   file_name \u001b[38;5;241m=\u001b[39m response\u001b[38;5;241m.\u001b[39msource_nodes[\u001b[38;5;241m0\u001b[39m]\u001b[38;5;241m.\u001b[39mnode\u001b[38;5;241m.\u001b[39mmetadata[\u001b[38;5;124m'\u001b[39m\u001b[38;5;124mfile_name\u001b[39m\u001b[38;5;124m'\u001b[39m] \u001b[38;5;241m+\u001b[39m \u001b[38;5;124m\"\u001b[39m\u001b[38;5;124m page nos \u001b[39m\u001b[38;5;124m\"\u001b[39m \u001b[38;5;241m+\u001b[39m response\u001b[38;5;241m.\u001b[39msource_nodes[\u001b[38;5;241m0\u001b[39m]\u001b[38;5;241m.\u001b[39mnode\u001b[38;5;241m.\u001b[39mmetadata[\u001b[38;5;124m'\u001b[39m\u001b[38;5;124mpage_label\u001b[39m\u001b[38;5;124m'\u001b[39m] \u001b[38;5;241m+\u001b[39m \u001b[38;5;124m\"\u001b[39m\u001b[38;5;124m,\u001b[39m\u001b[38;5;124m\"\u001b[39m \u001b[38;5;241m+\u001b[39m response\u001b[38;5;241m.\u001b[39msource_nodes[\u001b[38;5;241m1\u001b[39m]\u001b[38;5;241m.\u001b[39mnode\u001b[38;5;241m.\u001b[39mmetadata[\u001b[38;5;124m'\u001b[39m\u001b[38;5;124mpage_label\u001b[39m\u001b[38;5;124m'\u001b[39m]\n\u001b[0;32m      5\u001b[0m   final_response \u001b[38;5;241m=\u001b[39m response\u001b[38;5;241m.\u001b[39mresponse \u001b[38;5;241m+\u001b[39m \u001b[38;5;124m'\u001b[39m\u001b[38;5;130;01m\\n\u001b[39;00m\u001b[38;5;124m Check further at \u001b[39m\u001b[38;5;124m'\u001b[39m \u001b[38;5;241m+\u001b[39m file_name\n",
      "File \u001b[1;32mc:\\Users\\anila\\AppData\\Local\\Programs\\Python\\Python311\\Lib\\site-packages\\llama_index\\core\\instrumentation\\dispatcher.py:311\u001b[0m, in \u001b[0;36mDispatcher.span.<locals>.wrapper\u001b[1;34m(func, instance, args, kwargs)\u001b[0m\n\u001b[0;32m    308\u001b[0m             _logger\u001b[38;5;241m.\u001b[39mdebug(\u001b[38;5;124mf\u001b[39m\u001b[38;5;124m\"\u001b[39m\u001b[38;5;124mFailed to reset active_span_id: \u001b[39m\u001b[38;5;132;01m{\u001b[39;00me\u001b[38;5;132;01m}\u001b[39;00m\u001b[38;5;124m\"\u001b[39m)\n\u001b[0;32m    310\u001b[0m \u001b[38;5;28;01mtry\u001b[39;00m:\n\u001b[1;32m--> 311\u001b[0m     result \u001b[38;5;241m=\u001b[39m \u001b[43mfunc\u001b[49m\u001b[43m(\u001b[49m\u001b[38;5;241;43m*\u001b[39;49m\u001b[43margs\u001b[49m\u001b[43m,\u001b[49m\u001b[43m \u001b[49m\u001b[38;5;241;43m*\u001b[39;49m\u001b[38;5;241;43m*\u001b[39;49m\u001b[43mkwargs\u001b[49m\u001b[43m)\u001b[49m\n\u001b[0;32m    312\u001b[0m     \u001b[38;5;28;01mif\u001b[39;00m \u001b[38;5;28misinstance\u001b[39m(result, asyncio\u001b[38;5;241m.\u001b[39mFuture):\n\u001b[0;32m    313\u001b[0m         \u001b[38;5;66;03m# If the result is a Future, wrap it\u001b[39;00m\n\u001b[0;32m    314\u001b[0m         new_future \u001b[38;5;241m=\u001b[39m asyncio\u001b[38;5;241m.\u001b[39mensure_future(result)\n",
      "File \u001b[1;32mc:\\Users\\anila\\AppData\\Local\\Programs\\Python\\Python311\\Lib\\site-packages\\llama_index\\core\\base\\base_query_engine.py:52\u001b[0m, in \u001b[0;36mBaseQueryEngine.query\u001b[1;34m(self, str_or_query_bundle)\u001b[0m\n\u001b[0;32m     50\u001b[0m     \u001b[38;5;28;01mif\u001b[39;00m \u001b[38;5;28misinstance\u001b[39m(str_or_query_bundle, \u001b[38;5;28mstr\u001b[39m):\n\u001b[0;32m     51\u001b[0m         str_or_query_bundle \u001b[38;5;241m=\u001b[39m QueryBundle(str_or_query_bundle)\n\u001b[1;32m---> 52\u001b[0m     query_result \u001b[38;5;241m=\u001b[39m \u001b[38;5;28;43mself\u001b[39;49m\u001b[38;5;241;43m.\u001b[39;49m\u001b[43m_query\u001b[49m\u001b[43m(\u001b[49m\u001b[43mstr_or_query_bundle\u001b[49m\u001b[43m)\u001b[49m\n\u001b[0;32m     53\u001b[0m dispatcher\u001b[38;5;241m.\u001b[39mevent(\n\u001b[0;32m     54\u001b[0m     QueryEndEvent(query\u001b[38;5;241m=\u001b[39mstr_or_query_bundle, response\u001b[38;5;241m=\u001b[39mquery_result)\n\u001b[0;32m     55\u001b[0m )\n\u001b[0;32m     56\u001b[0m \u001b[38;5;28;01mreturn\u001b[39;00m query_result\n",
      "File \u001b[1;32mc:\\Users\\anila\\AppData\\Local\\Programs\\Python\\Python311\\Lib\\site-packages\\llama_index\\core\\instrumentation\\dispatcher.py:311\u001b[0m, in \u001b[0;36mDispatcher.span.<locals>.wrapper\u001b[1;34m(func, instance, args, kwargs)\u001b[0m\n\u001b[0;32m    308\u001b[0m             _logger\u001b[38;5;241m.\u001b[39mdebug(\u001b[38;5;124mf\u001b[39m\u001b[38;5;124m\"\u001b[39m\u001b[38;5;124mFailed to reset active_span_id: \u001b[39m\u001b[38;5;132;01m{\u001b[39;00me\u001b[38;5;132;01m}\u001b[39;00m\u001b[38;5;124m\"\u001b[39m)\n\u001b[0;32m    310\u001b[0m \u001b[38;5;28;01mtry\u001b[39;00m:\n\u001b[1;32m--> 311\u001b[0m     result \u001b[38;5;241m=\u001b[39m \u001b[43mfunc\u001b[49m\u001b[43m(\u001b[49m\u001b[38;5;241;43m*\u001b[39;49m\u001b[43margs\u001b[49m\u001b[43m,\u001b[49m\u001b[43m \u001b[49m\u001b[38;5;241;43m*\u001b[39;49m\u001b[38;5;241;43m*\u001b[39;49m\u001b[43mkwargs\u001b[49m\u001b[43m)\u001b[49m\n\u001b[0;32m    312\u001b[0m     \u001b[38;5;28;01mif\u001b[39;00m \u001b[38;5;28misinstance\u001b[39m(result, asyncio\u001b[38;5;241m.\u001b[39mFuture):\n\u001b[0;32m    313\u001b[0m         \u001b[38;5;66;03m# If the result is a Future, wrap it\u001b[39;00m\n\u001b[0;32m    314\u001b[0m         new_future \u001b[38;5;241m=\u001b[39m asyncio\u001b[38;5;241m.\u001b[39mensure_future(result)\n",
      "File \u001b[1;32mc:\\Users\\anila\\AppData\\Local\\Programs\\Python\\Python311\\Lib\\site-packages\\llama_index\\core\\query_engine\\retriever_query_engine.py:178\u001b[0m, in \u001b[0;36mRetrieverQueryEngine._query\u001b[1;34m(self, query_bundle)\u001b[0m\n\u001b[0;32m    174\u001b[0m \u001b[38;5;250m\u001b[39m\u001b[38;5;124;03m\"\"\"Answer a query.\"\"\"\u001b[39;00m\n\u001b[0;32m    175\u001b[0m \u001b[38;5;28;01mwith\u001b[39;00m \u001b[38;5;28mself\u001b[39m\u001b[38;5;241m.\u001b[39mcallback_manager\u001b[38;5;241m.\u001b[39mevent(\n\u001b[0;32m    176\u001b[0m     CBEventType\u001b[38;5;241m.\u001b[39mQUERY, payload\u001b[38;5;241m=\u001b[39m{EventPayload\u001b[38;5;241m.\u001b[39mQUERY_STR: query_bundle\u001b[38;5;241m.\u001b[39mquery_str}\n\u001b[0;32m    177\u001b[0m ) \u001b[38;5;28;01mas\u001b[39;00m query_event:\n\u001b[1;32m--> 178\u001b[0m     nodes \u001b[38;5;241m=\u001b[39m \u001b[38;5;28;43mself\u001b[39;49m\u001b[38;5;241;43m.\u001b[39;49m\u001b[43mretrieve\u001b[49m\u001b[43m(\u001b[49m\u001b[43mquery_bundle\u001b[49m\u001b[43m)\u001b[49m\n\u001b[0;32m    179\u001b[0m     response \u001b[38;5;241m=\u001b[39m \u001b[38;5;28mself\u001b[39m\u001b[38;5;241m.\u001b[39m_response_synthesizer\u001b[38;5;241m.\u001b[39msynthesize(\n\u001b[0;32m    180\u001b[0m         query\u001b[38;5;241m=\u001b[39mquery_bundle,\n\u001b[0;32m    181\u001b[0m         nodes\u001b[38;5;241m=\u001b[39mnodes,\n\u001b[0;32m    182\u001b[0m     )\n\u001b[0;32m    183\u001b[0m     query_event\u001b[38;5;241m.\u001b[39mon_end(payload\u001b[38;5;241m=\u001b[39m{EventPayload\u001b[38;5;241m.\u001b[39mRESPONSE: response})\n",
      "File \u001b[1;32mc:\\Users\\anila\\AppData\\Local\\Programs\\Python\\Python311\\Lib\\site-packages\\llama_index\\core\\query_engine\\retriever_query_engine.py:133\u001b[0m, in \u001b[0;36mRetrieverQueryEngine.retrieve\u001b[1;34m(self, query_bundle)\u001b[0m\n\u001b[0;32m    132\u001b[0m \u001b[38;5;28;01mdef\u001b[39;00m \u001b[38;5;21mretrieve\u001b[39m(\u001b[38;5;28mself\u001b[39m, query_bundle: QueryBundle) \u001b[38;5;241m-\u001b[39m\u001b[38;5;241m>\u001b[39m List[NodeWithScore]:\n\u001b[1;32m--> 133\u001b[0m     nodes \u001b[38;5;241m=\u001b[39m \u001b[38;5;28;43mself\u001b[39;49m\u001b[38;5;241;43m.\u001b[39;49m\u001b[43m_retriever\u001b[49m\u001b[38;5;241;43m.\u001b[39;49m\u001b[43mretrieve\u001b[49m\u001b[43m(\u001b[49m\u001b[43mquery_bundle\u001b[49m\u001b[43m)\u001b[49m\n\u001b[0;32m    134\u001b[0m     \u001b[38;5;28;01mreturn\u001b[39;00m \u001b[38;5;28mself\u001b[39m\u001b[38;5;241m.\u001b[39m_apply_node_postprocessors(nodes, query_bundle\u001b[38;5;241m=\u001b[39mquery_bundle)\n",
      "File \u001b[1;32mc:\\Users\\anila\\AppData\\Local\\Programs\\Python\\Python311\\Lib\\site-packages\\llama_index\\core\\instrumentation\\dispatcher.py:311\u001b[0m, in \u001b[0;36mDispatcher.span.<locals>.wrapper\u001b[1;34m(func, instance, args, kwargs)\u001b[0m\n\u001b[0;32m    308\u001b[0m             _logger\u001b[38;5;241m.\u001b[39mdebug(\u001b[38;5;124mf\u001b[39m\u001b[38;5;124m\"\u001b[39m\u001b[38;5;124mFailed to reset active_span_id: \u001b[39m\u001b[38;5;132;01m{\u001b[39;00me\u001b[38;5;132;01m}\u001b[39;00m\u001b[38;5;124m\"\u001b[39m)\n\u001b[0;32m    310\u001b[0m \u001b[38;5;28;01mtry\u001b[39;00m:\n\u001b[1;32m--> 311\u001b[0m     result \u001b[38;5;241m=\u001b[39m \u001b[43mfunc\u001b[49m\u001b[43m(\u001b[49m\u001b[38;5;241;43m*\u001b[39;49m\u001b[43margs\u001b[49m\u001b[43m,\u001b[49m\u001b[43m \u001b[49m\u001b[38;5;241;43m*\u001b[39;49m\u001b[38;5;241;43m*\u001b[39;49m\u001b[43mkwargs\u001b[49m\u001b[43m)\u001b[49m\n\u001b[0;32m    312\u001b[0m     \u001b[38;5;28;01mif\u001b[39;00m \u001b[38;5;28misinstance\u001b[39m(result, asyncio\u001b[38;5;241m.\u001b[39mFuture):\n\u001b[0;32m    313\u001b[0m         \u001b[38;5;66;03m# If the result is a Future, wrap it\u001b[39;00m\n\u001b[0;32m    314\u001b[0m         new_future \u001b[38;5;241m=\u001b[39m asyncio\u001b[38;5;241m.\u001b[39mensure_future(result)\n",
      "File \u001b[1;32mc:\\Users\\anila\\AppData\\Local\\Programs\\Python\\Python311\\Lib\\site-packages\\llama_index\\core\\base\\base_retriever.py:245\u001b[0m, in \u001b[0;36mBaseRetriever.retrieve\u001b[1;34m(self, str_or_query_bundle)\u001b[0m\n\u001b[0;32m    240\u001b[0m \u001b[38;5;28;01mwith\u001b[39;00m \u001b[38;5;28mself\u001b[39m\u001b[38;5;241m.\u001b[39mcallback_manager\u001b[38;5;241m.\u001b[39mas_trace(\u001b[38;5;124m\"\u001b[39m\u001b[38;5;124mquery\u001b[39m\u001b[38;5;124m\"\u001b[39m):\n\u001b[0;32m    241\u001b[0m     \u001b[38;5;28;01mwith\u001b[39;00m \u001b[38;5;28mself\u001b[39m\u001b[38;5;241m.\u001b[39mcallback_manager\u001b[38;5;241m.\u001b[39mevent(\n\u001b[0;32m    242\u001b[0m         CBEventType\u001b[38;5;241m.\u001b[39mRETRIEVE,\n\u001b[0;32m    243\u001b[0m         payload\u001b[38;5;241m=\u001b[39m{EventPayload\u001b[38;5;241m.\u001b[39mQUERY_STR: query_bundle\u001b[38;5;241m.\u001b[39mquery_str},\n\u001b[0;32m    244\u001b[0m     ) \u001b[38;5;28;01mas\u001b[39;00m retrieve_event:\n\u001b[1;32m--> 245\u001b[0m         nodes \u001b[38;5;241m=\u001b[39m \u001b[38;5;28;43mself\u001b[39;49m\u001b[38;5;241;43m.\u001b[39;49m\u001b[43m_retrieve\u001b[49m\u001b[43m(\u001b[49m\u001b[43mquery_bundle\u001b[49m\u001b[43m)\u001b[49m\n\u001b[0;32m    246\u001b[0m         nodes \u001b[38;5;241m=\u001b[39m \u001b[38;5;28mself\u001b[39m\u001b[38;5;241m.\u001b[39m_handle_recursive_retrieval(query_bundle, nodes)\n\u001b[0;32m    247\u001b[0m         retrieve_event\u001b[38;5;241m.\u001b[39mon_end(\n\u001b[0;32m    248\u001b[0m             payload\u001b[38;5;241m=\u001b[39m{EventPayload\u001b[38;5;241m.\u001b[39mNODES: nodes},\n\u001b[0;32m    249\u001b[0m         )\n",
      "File \u001b[1;32mc:\\Users\\anila\\AppData\\Local\\Programs\\Python\\Python311\\Lib\\site-packages\\llama_index\\core\\instrumentation\\dispatcher.py:311\u001b[0m, in \u001b[0;36mDispatcher.span.<locals>.wrapper\u001b[1;34m(func, instance, args, kwargs)\u001b[0m\n\u001b[0;32m    308\u001b[0m             _logger\u001b[38;5;241m.\u001b[39mdebug(\u001b[38;5;124mf\u001b[39m\u001b[38;5;124m\"\u001b[39m\u001b[38;5;124mFailed to reset active_span_id: \u001b[39m\u001b[38;5;132;01m{\u001b[39;00me\u001b[38;5;132;01m}\u001b[39;00m\u001b[38;5;124m\"\u001b[39m)\n\u001b[0;32m    310\u001b[0m \u001b[38;5;28;01mtry\u001b[39;00m:\n\u001b[1;32m--> 311\u001b[0m     result \u001b[38;5;241m=\u001b[39m \u001b[43mfunc\u001b[49m\u001b[43m(\u001b[49m\u001b[38;5;241;43m*\u001b[39;49m\u001b[43margs\u001b[49m\u001b[43m,\u001b[49m\u001b[43m \u001b[49m\u001b[38;5;241;43m*\u001b[39;49m\u001b[38;5;241;43m*\u001b[39;49m\u001b[43mkwargs\u001b[49m\u001b[43m)\u001b[49m\n\u001b[0;32m    312\u001b[0m     \u001b[38;5;28;01mif\u001b[39;00m \u001b[38;5;28misinstance\u001b[39m(result, asyncio\u001b[38;5;241m.\u001b[39mFuture):\n\u001b[0;32m    313\u001b[0m         \u001b[38;5;66;03m# If the result is a Future, wrap it\u001b[39;00m\n\u001b[0;32m    314\u001b[0m         new_future \u001b[38;5;241m=\u001b[39m asyncio\u001b[38;5;241m.\u001b[39mensure_future(result)\n",
      "File \u001b[1;32mc:\\Users\\anila\\AppData\\Local\\Programs\\Python\\Python311\\Lib\\site-packages\\llama_index\\core\\indices\\vector_store\\retrievers\\retriever.py:103\u001b[0m, in \u001b[0;36mVectorIndexRetriever._retrieve\u001b[1;34m(self, query_bundle)\u001b[0m\n\u001b[0;32m     97\u001b[0m     \u001b[38;5;28;01mif\u001b[39;00m query_bundle\u001b[38;5;241m.\u001b[39membedding \u001b[38;5;129;01mis\u001b[39;00m \u001b[38;5;28;01mNone\u001b[39;00m \u001b[38;5;129;01mand\u001b[39;00m \u001b[38;5;28mlen\u001b[39m(query_bundle\u001b[38;5;241m.\u001b[39membedding_strs) \u001b[38;5;241m>\u001b[39m \u001b[38;5;241m0\u001b[39m:\n\u001b[0;32m     98\u001b[0m         query_bundle\u001b[38;5;241m.\u001b[39membedding \u001b[38;5;241m=\u001b[39m (\n\u001b[0;32m     99\u001b[0m             \u001b[38;5;28mself\u001b[39m\u001b[38;5;241m.\u001b[39m_embed_model\u001b[38;5;241m.\u001b[39mget_agg_embedding_from_queries(\n\u001b[0;32m    100\u001b[0m                 query_bundle\u001b[38;5;241m.\u001b[39membedding_strs\n\u001b[0;32m    101\u001b[0m             )\n\u001b[0;32m    102\u001b[0m         )\n\u001b[1;32m--> 103\u001b[0m \u001b[38;5;28;01mreturn\u001b[39;00m \u001b[38;5;28;43mself\u001b[39;49m\u001b[38;5;241;43m.\u001b[39;49m\u001b[43m_get_nodes_with_embeddings\u001b[49m\u001b[43m(\u001b[49m\u001b[43mquery_bundle\u001b[49m\u001b[43m)\u001b[49m\n",
      "File \u001b[1;32mc:\\Users\\anila\\AppData\\Local\\Programs\\Python\\Python311\\Lib\\site-packages\\llama_index\\core\\indices\\vector_store\\retrievers\\retriever.py:180\u001b[0m, in \u001b[0;36mVectorIndexRetriever._get_nodes_with_embeddings\u001b[1;34m(self, query_bundle_with_embeddings)\u001b[0m\n\u001b[0;32m    176\u001b[0m \u001b[38;5;28;01mdef\u001b[39;00m \u001b[38;5;21m_get_nodes_with_embeddings\u001b[39m(\n\u001b[0;32m    177\u001b[0m     \u001b[38;5;28mself\u001b[39m, query_bundle_with_embeddings: QueryBundle\n\u001b[0;32m    178\u001b[0m ) \u001b[38;5;241m-\u001b[39m\u001b[38;5;241m>\u001b[39m List[NodeWithScore]:\n\u001b[0;32m    179\u001b[0m     query \u001b[38;5;241m=\u001b[39m \u001b[38;5;28mself\u001b[39m\u001b[38;5;241m.\u001b[39m_build_vector_store_query(query_bundle_with_embeddings)\n\u001b[1;32m--> 180\u001b[0m     query_result \u001b[38;5;241m=\u001b[39m \u001b[38;5;28;43mself\u001b[39;49m\u001b[38;5;241;43m.\u001b[39;49m\u001b[43m_vector_store\u001b[49m\u001b[38;5;241;43m.\u001b[39;49m\u001b[43mquery\u001b[49m\u001b[43m(\u001b[49m\u001b[43mquery\u001b[49m\u001b[43m,\u001b[49m\u001b[43m \u001b[49m\u001b[38;5;241;43m*\u001b[39;49m\u001b[38;5;241;43m*\u001b[39;49m\u001b[38;5;28;43mself\u001b[39;49m\u001b[38;5;241;43m.\u001b[39;49m\u001b[43m_kwargs\u001b[49m\u001b[43m)\u001b[49m\n\u001b[0;32m    181\u001b[0m     \u001b[38;5;28;01mreturn\u001b[39;00m \u001b[38;5;28mself\u001b[39m\u001b[38;5;241m.\u001b[39m_build_node_list_from_query_result(query_result)\n",
      "File \u001b[1;32mc:\\Users\\anila\\AppData\\Local\\Programs\\Python\\Python311\\Lib\\site-packages\\llama_index\\core\\vector_stores\\simple.py:376\u001b[0m, in \u001b[0;36mSimpleVectorStore.query\u001b[1;34m(self, query, **kwargs)\u001b[0m\n\u001b[0;32m    368\u001b[0m     top_similarities, top_ids \u001b[38;5;241m=\u001b[39m get_top_k_mmr_embeddings(\n\u001b[0;32m    369\u001b[0m         query_embedding,\n\u001b[0;32m    370\u001b[0m         embeddings,\n\u001b[1;32m   (...)\u001b[0m\n\u001b[0;32m    373\u001b[0m         mmr_threshold\u001b[38;5;241m=\u001b[39mmmr_threshold,\n\u001b[0;32m    374\u001b[0m     )\n\u001b[0;32m    375\u001b[0m \u001b[38;5;28;01melif\u001b[39;00m query\u001b[38;5;241m.\u001b[39mmode \u001b[38;5;241m==\u001b[39m VectorStoreQueryMode\u001b[38;5;241m.\u001b[39mDEFAULT:\n\u001b[1;32m--> 376\u001b[0m     top_similarities, top_ids \u001b[38;5;241m=\u001b[39m \u001b[43mget_top_k_embeddings\u001b[49m\u001b[43m(\u001b[49m\n\u001b[0;32m    377\u001b[0m \u001b[43m        \u001b[49m\u001b[43mquery_embedding\u001b[49m\u001b[43m,\u001b[49m\n\u001b[0;32m    378\u001b[0m \u001b[43m        \u001b[49m\u001b[43membeddings\u001b[49m\u001b[43m,\u001b[49m\n\u001b[0;32m    379\u001b[0m \u001b[43m        \u001b[49m\u001b[43msimilarity_top_k\u001b[49m\u001b[38;5;241;43m=\u001b[39;49m\u001b[43mquery\u001b[49m\u001b[38;5;241;43m.\u001b[39;49m\u001b[43msimilarity_top_k\u001b[49m\u001b[43m,\u001b[49m\n\u001b[0;32m    380\u001b[0m \u001b[43m        \u001b[49m\u001b[43membedding_ids\u001b[49m\u001b[38;5;241;43m=\u001b[39;49m\u001b[43mnode_ids\u001b[49m\u001b[43m,\u001b[49m\n\u001b[0;32m    381\u001b[0m \u001b[43m    \u001b[49m\u001b[43m)\u001b[49m\n\u001b[0;32m    382\u001b[0m \u001b[38;5;28;01melse\u001b[39;00m:\n\u001b[0;32m    383\u001b[0m     \u001b[38;5;28;01mraise\u001b[39;00m \u001b[38;5;167;01mValueError\u001b[39;00m(\u001b[38;5;124mf\u001b[39m\u001b[38;5;124m\"\u001b[39m\u001b[38;5;124mInvalid query mode: \u001b[39m\u001b[38;5;132;01m{\u001b[39;00mquery\u001b[38;5;241m.\u001b[39mmode\u001b[38;5;132;01m}\u001b[39;00m\u001b[38;5;124m\"\u001b[39m)\n",
      "File \u001b[1;32mc:\\Users\\anila\\AppData\\Local\\Programs\\Python\\Python311\\Lib\\site-packages\\llama_index\\core\\indices\\query\\embedding_utils.py:30\u001b[0m, in \u001b[0;36mget_top_k_embeddings\u001b[1;34m(query_embedding, embeddings, similarity_fn, similarity_top_k, embedding_ids, similarity_cutoff)\u001b[0m\n\u001b[0;32m     28\u001b[0m similarity_heap: List[Tuple[\u001b[38;5;28mfloat\u001b[39m, Any]] \u001b[38;5;241m=\u001b[39m []\n\u001b[0;32m     29\u001b[0m \u001b[38;5;28;01mfor\u001b[39;00m i, emb \u001b[38;5;129;01min\u001b[39;00m \u001b[38;5;28menumerate\u001b[39m(embeddings_np):\n\u001b[1;32m---> 30\u001b[0m     similarity \u001b[38;5;241m=\u001b[39m \u001b[43msimilarity_fn\u001b[49m\u001b[43m(\u001b[49m\u001b[43mquery_embedding_np\u001b[49m\u001b[43m,\u001b[49m\u001b[43m \u001b[49m\u001b[43memb\u001b[49m\u001b[43m)\u001b[49m  \u001b[38;5;66;03m# type: ignore[arg-type]\u001b[39;00m\n\u001b[0;32m     31\u001b[0m     \u001b[38;5;28;01mif\u001b[39;00m similarity_cutoff \u001b[38;5;129;01mis\u001b[39;00m \u001b[38;5;28;01mNone\u001b[39;00m \u001b[38;5;129;01mor\u001b[39;00m similarity \u001b[38;5;241m>\u001b[39m similarity_cutoff:\n\u001b[0;32m     32\u001b[0m         heapq\u001b[38;5;241m.\u001b[39mheappush(similarity_heap, (similarity, embedding_ids[i]))\n",
      "File \u001b[1;32mc:\\Users\\anila\\AppData\\Local\\Programs\\Python\\Python311\\Lib\\site-packages\\llama_index\\core\\base\\embeddings\\base.py:62\u001b[0m, in \u001b[0;36msimilarity\u001b[1;34m(embedding1, embedding2, mode)\u001b[0m\n\u001b[0;32m     60\u001b[0m     \u001b[38;5;28;01mreturn\u001b[39;00m np\u001b[38;5;241m.\u001b[39mdot(embedding1, embedding2)\n\u001b[0;32m     61\u001b[0m \u001b[38;5;28;01melse\u001b[39;00m:\n\u001b[1;32m---> 62\u001b[0m     product \u001b[38;5;241m=\u001b[39m \u001b[43mnp\u001b[49m\u001b[38;5;241;43m.\u001b[39;49m\u001b[43mdot\u001b[49m\u001b[43m(\u001b[49m\u001b[43membedding1\u001b[49m\u001b[43m,\u001b[49m\u001b[43m \u001b[49m\u001b[43membedding2\u001b[49m\u001b[43m)\u001b[49m\n\u001b[0;32m     63\u001b[0m     norm \u001b[38;5;241m=\u001b[39m np\u001b[38;5;241m.\u001b[39mlinalg\u001b[38;5;241m.\u001b[39mnorm(embedding1) \u001b[38;5;241m*\u001b[39m np\u001b[38;5;241m.\u001b[39mlinalg\u001b[38;5;241m.\u001b[39mnorm(embedding2)\n\u001b[0;32m     64\u001b[0m     \u001b[38;5;28;01mreturn\u001b[39;00m product \u001b[38;5;241m/\u001b[39m norm\n",
      "\u001b[1;31mTypeError\u001b[0m: unsupported operand type(s) for *: 'NoneType' and 'float'"
     ]
    }
   ],
   "source": [
    "initialize_conv()"
   ]
  },
  {
   "cell_type": "markdown",
   "metadata": {
    "id": "LI5whpCoHbXb"
   },
   "source": [
    "### Step 6 - Build a Testing Pipeline\n",
    "\n",
    "Here we feed a series of questions to the Q/A bot and store the responses along with the feedback on whether it's accurate or not from the user"
   ]
  },
  {
   "cell_type": "code",
   "execution_count": 34,
   "metadata": {
    "id": "4IwV2ivRFVnj"
   },
   "outputs": [],
   "source": [
    "questions = ['What information do you have about the Maturity benifit of HDFC Life Sampoorna Jeevan Plan?' ,'With the Lump sum option?',\n",
    "             'What other policy has better Maturity benefit?']"
   ]
  },
  {
   "cell_type": "code",
   "execution_count": 35,
   "metadata": {
    "id": "iYG7rV4ALiZB"
   },
   "outputs": [],
   "source": [
    "def testing_pipeline(questions):\n",
    "  test_feedback  = []\n",
    "  for i in questions:\n",
    "    print(i)\n",
    "    print(query_response(i))\n",
    "    print('\\n Please provide your feedback on the response provided by the bot')\n",
    "    user_input = input()\n",
    "    page = query_response(i).split()[-1]\n",
    "    test_feedback.append((i,query_response(i),page,user_input))\n",
    "\n",
    "  feedback_df = pd.DataFrame(test_feedback, columns =['Question', 'Response', 'Page','Good or Bad'])\n",
    "  return feedback_df"
   ]
  },
  {
   "cell_type": "code",
   "execution_count": 36,
   "metadata": {
    "id": "nn4V360bNtvY"
   },
   "outputs": [],
   "source": [
    "import pandas as pd"
   ]
  },
  {
   "cell_type": "code",
   "execution_count": 37,
   "metadata": {
    "colab": {
     "base_uri": "https://localhost:8080/",
     "height": 456
    },
    "id": "YsRWud2uMfch",
    "outputId": "36dc77dd-6590-484f-c571-442633dae329"
   },
   "outputs": [
    {
     "name": "stdout",
     "output_type": "stream",
     "text": [
      "What information do you have about the Maturity benifit of HDFC Life Sampoorna Jeevan Plan?\n",
      "The Maturity Benefit of HDFC Life Sampoorna Jeevan Plan requires the policyholder to provide the original Policy Document, a Discharge Form, a self-attested ID Proof, and bank account details with IFSC code for payment via NEFT. Additionally, for the payment of Survival Benefit, the policyholder needs to furnish the self-attested ID Proof and bank account details as well.\n",
      " Check further at HDFC-Life-Sampoorna-Jeevan-101N158V04-Policy-Document (1).pdf page nos 18,2\n",
      "\n",
      " Please provide your feedback on the response provided by the bot\n",
      "With the Lump sum option?\n",
      "The Lump Sum option provides a guaranteed maturity benefit which is 100% of the Basic Sum Assured payable on the Policy Maturity Date.\n",
      " Check further at HDFC-Life-Sampoorna-Jeevan-101N158V04-Policy-Document (1).pdf page nos 7,8\n",
      "\n",
      " Please provide your feedback on the response provided by the bot\n",
      "What other policy has better Maturity benefit?\n",
      "HDFC Life Sanchay Plus has a Maturity Benefit that includes Guaranteed Income on Maturity payable at the end of each Income Payout Frequency, with the option to receive the Guaranteed Sum Assured on Maturity. On the other hand, HDFC Life Sampoorna Jeevan does not provide specific details about its Maturity Benefit in the provided context.\n",
      " Check further at HDFC-Life-Sanchay-Plus-Life-Long-Income-Option-101N134V19-Policy-Document.pdf page nos 8,37\n",
      "\n",
      " Please provide your feedback on the response provided by the bot\n"
     ]
    },
    {
     "data": {
      "text/html": [
       "<div>\n",
       "<style scoped>\n",
       "    .dataframe tbody tr th:only-of-type {\n",
       "        vertical-align: middle;\n",
       "    }\n",
       "\n",
       "    .dataframe tbody tr th {\n",
       "        vertical-align: top;\n",
       "    }\n",
       "\n",
       "    .dataframe thead th {\n",
       "        text-align: right;\n",
       "    }\n",
       "</style>\n",
       "<table border=\"1\" class=\"dataframe\">\n",
       "  <thead>\n",
       "    <tr style=\"text-align: right;\">\n",
       "      <th></th>\n",
       "      <th>Question</th>\n",
       "      <th>Response</th>\n",
       "      <th>Page</th>\n",
       "      <th>Good or Bad</th>\n",
       "    </tr>\n",
       "  </thead>\n",
       "  <tbody>\n",
       "    <tr>\n",
       "      <th>0</th>\n",
       "      <td>What information do you have about the Maturit...</td>\n",
       "      <td>The Maturity Benefit of HDFC Life Sampoorna Je...</td>\n",
       "      <td>18,2</td>\n",
       "      <td></td>\n",
       "    </tr>\n",
       "    <tr>\n",
       "      <th>1</th>\n",
       "      <td>With the Lump sum option?</td>\n",
       "      <td>Guaranteed Maturity Benefit which is 100% of B...</td>\n",
       "      <td>7,8</td>\n",
       "      <td></td>\n",
       "    </tr>\n",
       "    <tr>\n",
       "      <th>2</th>\n",
       "      <td>What other policy has better Maturity benefit?</td>\n",
       "      <td>HDFC Life Sanchay Plus has a better Maturity b...</td>\n",
       "      <td>8,37</td>\n",
       "      <td></td>\n",
       "    </tr>\n",
       "  </tbody>\n",
       "</table>\n",
       "</div>"
      ],
      "text/plain": [
       "                                            Question  \\\n",
       "0  What information do you have about the Maturit...   \n",
       "1                          With the Lump sum option?   \n",
       "2     What other policy has better Maturity benefit?   \n",
       "\n",
       "                                            Response  Page Good or Bad  \n",
       "0  The Maturity Benefit of HDFC Life Sampoorna Je...  18,2              \n",
       "1  Guaranteed Maturity Benefit which is 100% of B...   7,8              \n",
       "2  HDFC Life Sanchay Plus has a better Maturity b...  8,37              "
      ]
     },
     "execution_count": 37,
     "metadata": {},
     "output_type": "execute_result"
    }
   ],
   "source": [
    "testing_pipeline(questions)"
   ]
  },
  {
   "cell_type": "markdown",
   "metadata": {
    "id": "gB1Jhv4TOpNR"
   },
   "source": [
    "## Part 3 - Next Steps\n"
   ]
  },
  {
   "cell_type": "markdown",
   "metadata": {
    "id": "zmYIZa0kfJUb"
   },
   "source": [
    "### 3.1 - Building a custom prompt template\n",
    "\n",
    "We saw that in one of the questions the model was not able to answer properly, or rather give a very detailed answer. Let's see how we can use a custom prompt template to mitigate the issue\n",
    "\n",
    "**This is similar to the generation layer that we did in HelpMate AI**"
   ]
  },
  {
   "cell_type": "code",
   "execution_count": 38,
   "metadata": {
    "id": "XTBXdU22hyst"
   },
   "outputs": [],
   "source": [
    "response = query_engine.query(\"What information do you have about the Maturity benifit of HDFC Life Sampoorna Jeevan Plan?\")"
   ]
  },
  {
   "cell_type": "code",
   "execution_count": 39,
   "metadata": {
    "colab": {
     "base_uri": "https://localhost:8080/",
     "height": 35
    },
    "id": "owZ7EMc2h6eT",
    "outputId": "39101eb3-9498-4cb0-ea16-20efdc22bea4"
   },
   "outputs": [
    {
     "data": {
      "text/plain": [
       "'The Maturity Benefit of HDFC Life Sampoorna Jeevan Plan requires the policyholder to provide the original Policy Document, a Discharge Form, a self-attested ID Proof, and bank account details with IFSC code for payment via NEFT. Additionally, for the payment of Survival Benefit, the same requirements for ID proof and bank account details need to be furnished.'"
      ]
     },
     "execution_count": 39,
     "metadata": {},
     "output_type": "execute_result"
    }
   ],
   "source": [
    "response.response"
   ]
  },
  {
   "cell_type": "code",
   "execution_count": 40,
   "metadata": {
    "colab": {
     "base_uri": "https://localhost:8080/"
    },
    "id": "nGg27gOwh6gl",
    "outputId": "5c1e2362-e559-4d31-b407-f4dfd0c4c0e4"
   },
   "outputs": [
    {
     "data": {
      "text/plain": [
       "NodeWithScore(node=TextNode(id_='734e0d30-410a-496a-bba9-9cff1e92c37f', embedding=None, metadata={'page_label': '18', 'file_name': 'HDFC-Life-Sampoorna-Jeevan-101N158V04-Policy-Document (1).pdf', 'file_path': 'D:\\\\ML\\\\data\\\\policy\\\\HDFC-Life-Sampoorna-Jeevan-101N158V04-Policy-Document (1).pdf', 'file_type': 'application/pdf', 'file_size': 1990500, 'creation_date': '2023-09-29', 'last_modified_date': '2024-10-23'}, excluded_embed_metadata_keys=['file_name', 'file_type', 'file_size', 'creation_date', 'last_modified_date', 'last_accessed_date'], excluded_llm_metadata_keys=['file_name', 'file_type', 'file_size', 'creation_date', 'last_modified_date', 'last_accessed_date'], relationships={<NodeRelationship.SOURCE: '1'>: RelatedNodeInfo(node_id='a3fa7c54-6f1b-4021-a29c-b88c85f569b0', node_type=<ObjectType.DOCUMENT: '4'>, metadata={'page_label': '18', 'file_name': 'HDFC-Life-Sampoorna-Jeevan-101N158V04-Policy-Document (1).pdf', 'file_path': 'D:\\\\ML\\\\data\\\\policy\\\\HDFC-Life-Sampoorna-Jeevan-101N158V04-Policy-Document (1).pdf', 'file_type': 'application/pdf', 'file_size': 1990500, 'creation_date': '2023-09-29', 'last_modified_date': '2024-10-23'}, hash='6dd2624a6236e71002ebe57039d3347ca6d8d41c4ccb40405206c2478f99d50b')}, text='Please communicate any changes in your mailing address or any other communication details as soon as possible. This \\nwill enable us to serve you better. \\n \\nF.9. Entire Contract:  This Policy comprises of the terms and conditions set forth in this Policy Document , the Policy \\nSchedule, and the endorsements, if any, made on or applicable to this Policy, which shall form an integral part and the \\nentire contract evidenced by this Policy. The liability of the Company is at all times subject to the terms and conditions \\nof this Policy and the endorsements made from time to time.   \\n \\nF.10. Risk Factors: \\nThis is a Non- Linked, Participating IndividualLife Insurance Savings Product. HDFC Life Insurance Company Limited is \\nonly the name of the Insurance Company and HDFC Life Sampoorna JeevanPlan is only the name of the product and  \\ndoes not in any way indicate the quality of the product, its future prospects or returns. \\n \\nF.11. Governing Law and Jurisdiction: This Policy shall be governed by and interpreted in accordance with the laws  of \\nIndia. All actions, suits and proceedings under this Policy shall be subject to the exclusive jurisdiction of the court s in \\nIndia.  \\n \\nF.12. Death Benefit for Minor Life :If Age of the Life Assured is greater than or equal to 12 years, the risk will commence \\nimmediately from the Policy Commencement Date . If the Age of Life Assured is less than 12 years, the risk will \\ncommenceunder the Policy (that is full death benefitwill become payable  on death of Life Assured )on the last day of \\nsecond Policy Year.If the Age of Life Assured is less than 12 years and if the Life Assured dies before the last day of the \\nsecond Policy Year, the Death Benefit shall be restricted to refund of Premiums without interest. \\n \\nF.13. Suicide Exclusion: In case of death due to suicide within 12 months from the Date of Commencement of Risk under \\nthe policy or from the date of Revival of the policy, as applicable, the Eligible Person shall be entitled to at least 80% of  \\nthe Total Premiums Paid till the date of death or the Surrender Value available  as on the date of death whichever is \\nhigher, provided the policy is in force. \\n \\nF.14. Grace Period : A Grace Period of fifteen (15) days from the Premium payment due date for Policies with monthly  \\nPremium payment mode and thirty (30) days from the Premium paymen t due date for all other available Premium  \\npayment modes will be  allowed for payments of each Premium. During the Grace Period, the Policy shall continue to be  \\nIn Force for availing the Death Benefit.  Any unpaid Premium is deductible from the Benefits t hat may arise during the  \\nGrace Period. The Company shall pay the Death Benefit for death during Grace Period, subject to the deduction of the  \\nPremiums due as well as balance Premiums for the Policy Year, if any under the Policy.  \\n \\nIf the P remiums due are not paid within the Grace Period, the Policy will be eligible  for  non-forfeiture options as \\nexplained in Clause D.3. \\n \\nF.15. Requirements for maturity claims and death claims: In the event of a claim for Maturity Benefit or Death Benefit \\narising under this Policy, the Eligible Person shall intimate to the Company in writing of the claim and provide the \\nfollowing documents to the Company to enable the Company to process the claim: \\n \\nF.15.1.In case of maturity claims: \\n \\n(i) Original Policy Document; and \\n(ii) Discharge Form \\n(iii) Self-attested ID Proof, and \\n(iv) Bank account details along with IFSC code (payment would be made vide NEFT only) in case there is a change in \\nthe bank details already provided. \\n \\nFor payment of Survival Benefit, requirements specified in (iii) & (iv) above need to be furnished \\n \\nF.15.2.In case of death claims, except death claims arising out of accidents or unnatural deaths', mimetype='text/plain', start_char_idx=4, end_char_idx=3817, text_template='{metadata_str}\\n\\n{content}', metadata_template='{key}: {value}', metadata_seperator='\\n'), score=0.8823841642474337)"
      ]
     },
     "execution_count": 40,
     "metadata": {},
     "output_type": "execute_result"
    }
   ],
   "source": [
    "response.source_nodes[0]"
   ]
  },
  {
   "cell_type": "code",
   "execution_count": 41,
   "metadata": {
    "colab": {
     "base_uri": "https://localhost:8080/",
     "height": 122
    },
    "id": "SnF-4uiqh6kG",
    "outputId": "c5ecc78f-278c-461a-c170-cce1c81bf639"
   },
   "outputs": [
    {
     "data": {
      "text/plain": [
       "'A.1. Policy Preamble \\n \\nHDFC Life Sampoorna Jeevan  Plan is a non -linked participating individual life insurance savings Policy. A participating \\nPolicyentitles the Policyholder to participate in the surplus (profits) of the Company. The Terms and Conditions and the Policy \\nSchedule are issued based on the proposal form submitted by the Life Assured /Policyholder. \\n \\nA.2. Policy Schedule   \\n  \\nName of the Policy:  HDFC Life Sampoorna Jeevan \\nUIN  of the Product 101N158V04 \\nPolicy Number  \\nDate of the Proposal  \\nPolicy Commencement Date  \\nRisk Commencement Date  \\nAuto Vesting if Life Assured is Minor  \\nBasic Sum Assured  \\nSum Assured on Death  \\nMaturity Age Variant <<Sampoorna Jeevan75/Sampoorna Jeevan100>> \\nGuaranteed Benefit Option <<Lumpsum/Income/Lumpsum with Income/Income with Lumpsum>> \\nGuaranteed Income Benefit (GIB) INR xxxx \\nGuaranteed Income Benefit Date First GIB Date  \\nLast GIB Date  \\nBonus Option <<SRB/SRIB/Cash/SRB+Cash/SRIB+Cash>> \\nPaid-Up Additions <<Not applicable / Yes / No>> \\nRider (s) \\nDescription Sum Assured \\n(Rs.) \\nRider \\nPremium(Rs) \\nCessation Date \\n«COMPDESC_0\\n02» \\n«SUMINS_002»  «CESSDATE_002» \\n«COMPDESC_0\\n03» \\n«SUMINS_003»  «CESSDATE_003» \\n«COMPDESC_0\\n04» \\n«SUMINS_004»  «CESSDATE_004» \\n \\nUIN of the Rider(s)  \\nPremium Amount  \\nFrequency of Premium Payment  \\nDue Date of Premium Payment  \\nPremium Payment  Term  \\nPolicy Term  \\nName and Address of the Policyholder  \\nDate of Birth of the Policyholder   \\nName and Address of the Life Assured  \\nAge of Life Assured At Entry \\nDate of Birth \\nWhether Age admitted? \\n \\nName of Nominee/(s) and relationship to Life \\nAssured \\nName of \\nNominee/(s) \\nAge of \\nNominee/(s) \\nRelationship to \\nLife Assured Proportion (%) \\n    \\n    \\n    \\nName of Appointee, If Nominee is Minor  \\nPolicy Maturity Date  \\nSpecial Conditions'"
      ]
     },
     "execution_count": 41,
     "metadata": {},
     "output_type": "execute_result"
    }
   ],
   "source": [
    "response.source_nodes[1].node.text"
   ]
  },
  {
   "cell_type": "code",
   "execution_count": 42,
   "metadata": {
    "id": "29V6VpU5Wjrd"
   },
   "outputs": [],
   "source": [
    "retrieved = response.source_nodes[0].node.text + response.source_nodes[1].node.text"
   ]
  },
  {
   "cell_type": "code",
   "execution_count": 45,
   "metadata": {
    "id": "SpR4QgJsB_gN"
   },
   "outputs": [],
   "source": [
    "messages = [\n",
    "    {\"role\":\"system\", \"content\":\"You are an AI assistant to user. Provide specific responses in bullet points\"},\n",
    "    {\"role\":\"user\", \"content\":f\"\"\"What information do you have about the Maturity benifit of HDFC Life Sampoorna Jeevan Plan? Check in '{retrieved}' \"\"\"},\n",
    "          ]"
   ]
  },
  {
   "cell_type": "code",
   "execution_count": 46,
   "metadata": {
    "colab": {
     "base_uri": "https://localhost:8080/",
     "height": 104
    },
    "id": "ULJ9RRPlAiTg",
    "outputId": "11fd342a-e755-4959-ebf3-a5d744f37a11"
   },
   "outputs": [
    {
     "data": {
      "text/plain": [
       "\"- **Policy Features for HDFC Life Sampoorna Jeevan Plan:**\\n    - Non-linked, Participating Individual Life Insurance Savings Product\\n    - Names of entities (HDFC Life Insurance Company Limited and HDFC Life Sampoorna Jeevan Plan) are for identification purposes only\\n    - Policy governed by Indian laws with jurisdiction in India\\n\\n- **Death Benefit for Minor Life Assured:**\\n    - Age threshold for commencement of risk based on Life Assured's age\\n    - Provisions for death benefits if Life Assured dies within first two policy years\\n\\n- **Suicide Exclusion Clause:**\\n    - Policy outlines conditions and benefits in case of death due to suicide within first 12 months of policy commencement or revival\\n\\n- **Grace Period and Non-forfeiture Options:**\\n    - Specifies the grace period for premium payments and consequences if premiums are not paid within the stipulated period\\n\\n- **Requirements for Maturity and Death Claims:**\\n    - Detailed list of documents and information needed for submission when claiming Maturity or Death Benefit under the policy\\n\\n- **Policy Schedule Details:**\\n    - Various specifics mentioned in the policy schedule include policy name, UIN, policyholder details, rider information, premium details, maturity information, and special conditions\\n\\n- For further queries or detailed information specific to the Maturity Benefit of HDFC Life Sampoorna Jeevan Plan, you may need to refer to the official policy document or contact the respective HDFC Life Insurance customer service.\""
      ]
     },
     "execution_count": 46,
     "metadata": {},
     "output_type": "execute_result"
    }
   ],
   "source": [
    "response2 = openai.chat.completions.create(\n",
    "        model=\"gpt-3.5-turbo\",\n",
    "        messages=messages)\n",
    "response2.choices[0].message.content"
   ]
  },
  {
   "cell_type": "markdown",
   "metadata": {
    "id": "4XdYKk_cVx7L"
   },
   "source": [
    "### 3.2 - Recommendations on how to further improve this\n",
    "- Based on the testing pipeline's feedback develop a strategy on how to improve the POC further\n",
    "  - This can be through building a better/cleaner dataset, or utilizing better data pre-processing techniques\n",
    "- If the accuracy is good enough, think of implementing some more use cases and user stories. Maybe a set of users want to do XYZ, and that requirement needs to be implemented in the solution. Think of a proper tool that can enable you to do that.\n",
    "- Few suggestions based on the common tools that we have in the pipeline\n",
    "https://docs.llamaindex.ai/en/stable/optimizing/basic_strategies/basic_strategies.html"
   ]
  },
  {
   "cell_type": "markdown",
   "metadata": {
    "id": "2S4oq3Ben3as"
   },
   "source": [
    "***Using Customized Nodes and LLMs***\n",
    "\n",
    "This can be used if your responses are not accurate or is not being summarized very well\n",
    "\n"
   ]
  },
  {
   "cell_type": "code",
   "execution_count": 47,
   "metadata": {
    "id": "6bmVfAsR6arv"
   },
   "outputs": [],
   "source": [
    "from llama_index.embeddings.openai import OpenAIEmbedding\n",
    "from llama_index.core.node_parser import SentenceSplitter\n",
    "from llama_index.llms.openai import OpenAI\n",
    "from llama_index.core import Settings\n",
    "\n",
    "##Initialize the OpenAI model\n",
    "Settings.llm = OpenAI(model=\"gpt-3.5-turbo\", temperature=0, max_tokens=256)\n",
    "\n",
    "##Initialize the embedding model\n",
    "Settings.embed_model = OpenAIEmbedding()\n",
    "\n",
    "## Initialize the node_parser with the custom node settings\n",
    "Settings.node_parser = SentenceSplitter(chunk_size=512, chunk_overlap=20)\n",
    "\n",
    "## Initialize the num_output and the context window\n",
    "Settings.num_output = 512\n",
    "Settings.context_window = 3900\n",
    "\n",
    "# Create a VectorStoreIndex from a list of documents using the service context\n",
    "index = VectorStoreIndex.from_documents(documents)\n",
    "\n",
    "# Initialize a query engine for the index with a specified similarity top-k value\n",
    "query_engine = index.as_query_engine(similarity_top_k=3)"
   ]
  },
  {
   "cell_type": "code",
   "execution_count": 48,
   "metadata": {
    "id": "3XYgrdNW81Ex"
   },
   "outputs": [],
   "source": [
    "#Query the engine with a specific question\n",
    "response = query_engine.query(\"What information do you have about the Maturity benifit of HDFC Life Sampoorna Jeevan Plan?\")"
   ]
  },
  {
   "cell_type": "code",
   "execution_count": 49,
   "metadata": {
    "colab": {
     "base_uri": "https://localhost:8080/",
     "height": 35
    },
    "id": "Z2w0krQY83W2",
    "outputId": "e8fbe398-daa9-4ae1-b861-aa50c8b92d2d"
   },
   "outputs": [
    {
     "data": {
      "text/plain": [
       "'The Maturity Benefit of HDFC Life Sampoorna Jeevan Plan is paid to the Policyholder on the Policy Maturity Date, provided the Policy remains in force and the Life Assured survives till the maturity date. The Maturity Benefit amount is based on the Guaranteed Benefit Option chosen by the Policyholder at the inception of the policy, as specified in the Policy Schedule.'"
      ]
     },
     "execution_count": 49,
     "metadata": {},
     "output_type": "execute_result"
    }
   ],
   "source": [
    "response.response"
   ]
  }
 ],
 "metadata": {
  "colab": {
   "provenance": []
  },
  "kernelspec": {
   "display_name": "Python 3",
   "name": "python3"
  },
  "language_info": {
   "codemirror_mode": {
    "name": "ipython",
    "version": 3
   },
   "file_extension": ".py",
   "mimetype": "text/x-python",
   "name": "python",
   "nbconvert_exporter": "python",
   "pygments_lexer": "ipython3",
   "version": "3.11.9"
  }
 },
 "nbformat": 4,
 "nbformat_minor": 0
}
